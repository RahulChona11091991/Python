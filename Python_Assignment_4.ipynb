{
  "nbformat": 4,
  "nbformat_minor": 0,
  "metadata": {
    "colab": {
      "provenance": [],
      "authorship_tag": "ABX9TyPh3RIz9bXMOCWZ9qUNsljB",
      "include_colab_link": true
    },
    "kernelspec": {
      "name": "python3",
      "display_name": "Python 3"
    },
    "language_info": {
      "name": "python"
    }
  },
  "cells": [
    {
      "cell_type": "markdown",
      "metadata": {
        "id": "view-in-github",
        "colab_type": "text"
      },
      "source": [
        "<a href=\"https://colab.research.google.com/github/RahulChona11091991/Python/blob/main/Python_Assignment_4.ipynb\" target=\"_parent\"><img src=\"https://colab.research.google.com/assets/colab-badge.svg\" alt=\"Open In Colab\"/></a>"
      ]
    },
    {
      "cell_type": "markdown",
      "source": [
        "1. What exactly is []?\n",
        "\n",
        "Answer: It's a list, containing no items in it."
      ],
      "metadata": {
        "id": "EkdCr_1YZCV9"
      }
    },
    {
      "cell_type": "markdown",
      "source": [
        "2. In a list of values stored in a variable called spam, how would you assign the value &#39;hello&#39; as the\n",
        "third value? (Assume [2, 4, 6, 8, 10] are in spam.)\n",
        "Let&#39;s pretend the spam includes the list [&#39;a&#39;, &#39;b&#39;, &#39;c&#39;, &#39;d&#39;] for the next three queries.\n",
        "\n",
        "Answer:\n",
        "\n",
        "spam = [2, 4, 6, 8, 10]\n",
        "print('Spam Before: ' , spam)\n",
        "\n",
        "spam[2] = 'hello'\n",
        "print('Spam After: ' , spam)"
      ],
      "metadata": {
        "id": "hVPJOLUSaPhn"
      }
    },
    {
      "cell_type": "code",
      "source": [
        "spam = [2, 4, 6, 8, 10]\n",
        "print('Spam Before: ' , spam)\n",
        "\n",
        "spam[2] = 'hello'\n",
        "print('Spam After: ' , spam)"
      ],
      "metadata": {
        "colab": {
          "base_uri": "https://localhost:8080/"
        },
        "id": "sK_kdxqRfwkh",
        "outputId": "b6288eeb-d339-4fb9-f412-f04aa4c41b99"
      },
      "execution_count": 6,
      "outputs": [
        {
          "output_type": "stream",
          "name": "stdout",
          "text": [
            "Spam Before:  [2, 4, 6, 8, 10]\n",
            "Spam After:  [2, 4, 'hello', 8, 10]\n"
          ]
        }
      ]
    },
    {
      "cell_type": "markdown",
      "source": [
        "3. What is the value of spam[int(int(&#39;3&#39; * 2) / 11)]?\n",
        "\n",
        "Answer: 'd'"
      ],
      "metadata": {
        "id": "x73jn1-XaPyM"
      }
    },
    {
      "cell_type": "code",
      "source": [
        "spam = ['a', 'b', 'c', 'd']\n",
        "\n",
        "print(spam[int(int('3' * 2) / 11)])"
      ],
      "metadata": {
        "colab": {
          "base_uri": "https://localhost:8080/"
        },
        "id": "6KOP2KqSgbGk",
        "outputId": "9c2568c6-957c-4c52-c35e-7bf999e54716"
      },
      "execution_count": 8,
      "outputs": [
        {
          "output_type": "stream",
          "name": "stdout",
          "text": [
            "d\n"
          ]
        }
      ]
    },
    {
      "cell_type": "markdown",
      "source": [
        "4. What is the value of spam[-1]?\n",
        "\n",
        "Answer: Since negative indexes count from end of the list. 'd' is the last item of the list."
      ],
      "metadata": {
        "id": "CgZYHPDHaP_1"
      }
    },
    {
      "cell_type": "code",
      "source": [
        "spam[-1]"
      ],
      "metadata": {
        "colab": {
          "base_uri": "https://localhost:8080/",
          "height": 35
        },
        "id": "hhI_Cp0ohVs1",
        "outputId": "9f66f2d5-1f33-4dda-bd84-02a1fb58edf1"
      },
      "execution_count": 9,
      "outputs": [
        {
          "output_type": "execute_result",
          "data": {
            "text/plain": [
              "'d'"
            ],
            "application/vnd.google.colaboratory.intrinsic+json": {
              "type": "string"
            }
          },
          "metadata": {},
          "execution_count": 9
        }
      ]
    },
    {
      "cell_type": "markdown",
      "source": [
        "5. What is the value of spam[:2]?\n",
        "Let&#39;s pretend bacon has the list [3.14, &#39;cat,&#39; 11, &#39;cat,&#39; True] for the next three questions.\n",
        "\n",
        "Answer: ['a', 'b']"
      ],
      "metadata": {
        "id": "bQSnpUQxaQKi"
      }
    },
    {
      "cell_type": "code",
      "source": [
        "spam[:2]"
      ],
      "metadata": {
        "colab": {
          "base_uri": "https://localhost:8080/"
        },
        "id": "KwiMRopthq0D",
        "outputId": "f5592473-5379-4f2a-8745-4d835b486ac2"
      },
      "execution_count": 14,
      "outputs": [
        {
          "output_type": "execute_result",
          "data": {
            "text/plain": [
              "['a', 'b']"
            ]
          },
          "metadata": {},
          "execution_count": 14
        }
      ]
    },
    {
      "cell_type": "markdown",
      "source": [
        "6. What is the value of bacon.index(&#39;cat&#39;)?\n",
        "\n",
        "Answer: 1"
      ],
      "metadata": {
        "id": "ZqPTsaZiaQR2"
      }
    },
    {
      "cell_type": "code",
      "source": [
        "bacon = [3.14, 'cat', 11, 'cat', True]\n",
        "\n",
        "bacon.index('cat')"
      ],
      "metadata": {
        "colab": {
          "base_uri": "https://localhost:8080/"
        },
        "id": "p2AyI8-1iAc3",
        "outputId": "9ef83bcf-51dd-4c4d-c0be-3642c1c1d604"
      },
      "execution_count": 23,
      "outputs": [
        {
          "output_type": "execute_result",
          "data": {
            "text/plain": [
              "1"
            ]
          },
          "metadata": {},
          "execution_count": 23
        }
      ]
    },
    {
      "cell_type": "markdown",
      "source": [
        "7. How does bacon.append(99) change the look of the list value in bacon?\n",
        "\n",
        "Answer: [3.14, 'cat', 11, 'cat', True, 99]"
      ],
      "metadata": {
        "id": "Pu-ASie3aQX7"
      }
    },
    {
      "cell_type": "code",
      "source": [
        "bacon.append(99)\n",
        "bacon"
      ],
      "metadata": {
        "colab": {
          "base_uri": "https://localhost:8080/"
        },
        "id": "bDzYIF0YieJl",
        "outputId": "f25e766b-bbdf-4df8-99f4-97e0e49fac44"
      },
      "execution_count": 24,
      "outputs": [
        {
          "output_type": "execute_result",
          "data": {
            "text/plain": [
              "[3.14, 'cat', 11, 'cat', True, 99]"
            ]
          },
          "metadata": {},
          "execution_count": 24
        }
      ]
    },
    {
      "cell_type": "markdown",
      "source": [
        "8. How does bacon.remove(&#39;cat&#39;) change the look of the list in bacon?\n",
        "\n",
        "Answer: [3.14, 11, 'cat', True, 99]"
      ],
      "metadata": {
        "id": "VGNRskRtaQe6"
      }
    },
    {
      "cell_type": "code",
      "source": [
        "bacon.remove('cat')\n",
        "bacon"
      ],
      "metadata": {
        "colab": {
          "base_uri": "https://localhost:8080/"
        },
        "id": "c9n7xyOaioHj",
        "outputId": "833e8cd5-6f33-4df1-b00c-47249bc92e45"
      },
      "execution_count": 25,
      "outputs": [
        {
          "output_type": "execute_result",
          "data": {
            "text/plain": [
              "[3.14, 11, 'cat', True, 99]"
            ]
          },
          "metadata": {},
          "execution_count": 25
        }
      ]
    },
    {
      "cell_type": "markdown",
      "source": [
        "9. What are the list concatenation and list replication operators?\n",
        "\n",
        "Answer:\n",
        "\n",
        "- List concatenation operator '+'.\n",
        "\n",
        "  list1 = [1, 2, 3]\n",
        "  list2 = [1, 2, 3]\n",
        "\n",
        "  print(list1 + list2)\n",
        "\n",
        "- List replication operator '*'.\n",
        "  \n",
        "  print(list1 * 5)"
      ],
      "metadata": {
        "id": "gC8EcU5haQmn"
      }
    },
    {
      "cell_type": "code",
      "source": [
        "list1 = [1, 2, 3]\n",
        "list2 = [1, 2, 3]\n",
        "\n",
        "#List Concatenation Operator\n",
        "print(list1 + list2)\n",
        "\n",
        "#List Replication Operator\n",
        "print(list1 * 5)"
      ],
      "metadata": {
        "colab": {
          "base_uri": "https://localhost:8080/"
        },
        "id": "keWanB77kIrn",
        "outputId": "07a80a4c-ae89-436e-be2a-7fbefdabe57b"
      },
      "execution_count": 40,
      "outputs": [
        {
          "output_type": "stream",
          "name": "stdout",
          "text": [
            "[1, 2, 3, 1, 2, 3]\n",
            "[1, 2, 3, 1, 2, 3, 1, 2, 3, 1, 2, 3, 1, 2, 3]\n"
          ]
        }
      ]
    },
    {
      "cell_type": "markdown",
      "source": [
        "10. What is difference between the list methods append() and insert()?\n",
        "\n",
        "Answer: Append() adds an item to the end of a list.\n",
        "\n",
        "insert() inserts item at a specified index."
      ],
      "metadata": {
        "id": "_vsrppK5aQx2"
      }
    },
    {
      "cell_type": "code",
      "source": [
        "list1.append(4)\n",
        "print(list1)\n",
        "\n",
        "list1.insert(1, 99)\n",
        "print(list1)"
      ],
      "metadata": {
        "colab": {
          "base_uri": "https://localhost:8080/"
        },
        "id": "x-wYajDZmKW6",
        "outputId": "a1bcd647-f4dc-4eb5-ef9d-07ad29dc50e3"
      },
      "execution_count": 41,
      "outputs": [
        {
          "output_type": "stream",
          "name": "stdout",
          "text": [
            "[1, 2, 3, 4]\n",
            "[1, 99, 2, 3, 4]\n"
          ]
        }
      ]
    },
    {
      "cell_type": "markdown",
      "source": [
        "11. What are the two methods for removing items from a list?\n",
        "\n",
        "Answer:\n",
        "- pop(): Remove an item by index and get its value.\n",
        "- remove(): Remove an item by value.\n",
        "- del: Remove an item by index or slice."
      ],
      "metadata": {
        "id": "TeYcBCGkaQ6c"
      }
    },
    {
      "cell_type": "code",
      "source": [
        "print(list1)\n",
        "\n",
        "#pop: By index\n",
        "print(list1.pop(1))\n",
        "print(list1)\n",
        "\n",
        "#remove(): By value\n",
        "list1.remove(2)\n",
        "print(list1)\n",
        "\n",
        "#del: By index\n",
        "del list1[1]\n",
        "print(list1)"
      ],
      "metadata": {
        "colab": {
          "base_uri": "https://localhost:8080/"
        },
        "id": "JYE41_cAnNHi",
        "outputId": "5d109388-adae-421c-8ce5-792090afa1ed"
      },
      "execution_count": 42,
      "outputs": [
        {
          "output_type": "stream",
          "name": "stdout",
          "text": [
            "[1, 99, 2, 3, 4]\n",
            "99\n",
            "[1, 2, 3, 4]\n",
            "[1, 3, 4]\n",
            "[1, 4]\n"
          ]
        }
      ]
    },
    {
      "cell_type": "markdown",
      "source": [
        "12. Describe how list values and string values are identical.\n",
        "\n",
        "Answer:\n",
        "\n",
        "- String is a sequence of characters. Similarly, list is a sequence of items(of similar or different types).\n",
        "\n",
        "- Each character in string and each item in list has an index. We can calculate the length(Number of characters) of a string and length(number of items) of list.\n",
        "\n",
        "- In string, We can use indexes for getting a specific character at an index. Similarly, with the help of indexes we can get the item from list at a specified index.\n",
        "\n",
        "- String and List both can be concatenated(+) and replicated(* numberOfTimesToReplicate) using respective operators.\n",
        "\n",
        "- Since both string and List are sequences. We can use both in for loop.\n"
      ],
      "metadata": {
        "id": "jcWZp-WIaRCS"
      }
    },
    {
      "cell_type": "markdown",
      "source": [
        "13. What&#39;s the difference between tuples and lists?\n",
        "\n",
        "Answer: One major difference between these two is that\n",
        "\n",
        "- Tuples are immutable(which means one defined, it cannot be altered).\n",
        "- Whereas list is muttable. So, In list we can add, change or remove items.\n"
      ],
      "metadata": {
        "id": "NfcltzZgaRJ7"
      }
    },
    {
      "cell_type": "markdown",
      "source": [
        "14. How do you type a tuple value that only contains the integer 42?\n",
        "\n",
        "Answer: tupleObj = (42,)\n",
        "\n"
      ],
      "metadata": {
        "id": "5CizMJ10aRQz"
      }
    },
    {
      "cell_type": "code",
      "source": [
        "tupleObj = (42,)\n",
        "tupleObj.index(42)\n"
      ],
      "metadata": {
        "colab": {
          "base_uri": "https://localhost:8080/"
        },
        "id": "9tt4LtGBtpwp",
        "outputId": "2b6d9c63-49d1-4ca1-8f01-4d5719ee30f7"
      },
      "execution_count": 49,
      "outputs": [
        {
          "output_type": "execute_result",
          "data": {
            "text/plain": [
              "0"
            ]
          },
          "metadata": {},
          "execution_count": 49
        }
      ]
    },
    {
      "cell_type": "markdown",
      "source": [
        "15. How do you get a list value&#39;s tuple form? How do you get a tuple value&#39;s list form?\n",
        "\n",
        "Answer:\n",
        "\n",
        "list1 = [1,2,3,4]\n",
        "\n",
        "#Tuple form out of List1 | using tuple()\n",
        "print(tuple(list1))\n",
        "\n",
        "#List form out of tupleObj | using list()\n",
        "print(list(tupleObj))"
      ],
      "metadata": {
        "id": "KdQrb_8GaRXn"
      }
    },
    {
      "cell_type": "code",
      "source": [
        "list1 = [1,2,3,4]\n",
        "\n",
        "#Tuple form out of List1\n",
        "print(tuple(list1))\n",
        "\n",
        "#List form out of tupleObj\n",
        "print(list(tupleObj))"
      ],
      "metadata": {
        "colab": {
          "base_uri": "https://localhost:8080/"
        },
        "id": "a4kXp2smuc_b",
        "outputId": "13578191-fef3-4cd2-8b2c-21b44d8b9a28"
      },
      "execution_count": 51,
      "outputs": [
        {
          "output_type": "stream",
          "name": "stdout",
          "text": [
            "(1, 2, 3, 4)\n",
            "[42]\n"
          ]
        }
      ]
    },
    {
      "cell_type": "markdown",
      "source": [
        "16. Variables that &quot;contain&quot; list values are not necessarily lists themselves. Instead, what do they\n",
        "contain?\n",
        "\n",
        "Answer: They contain reference to list values."
      ],
      "metadata": {
        "id": "jI2dtJeGaRdW"
      }
    },
    {
      "cell_type": "markdown",
      "source": [
        "17. How do you distinguish between copy.copy() and copy.deepcopy()?\n",
        "\n",
        "Answer:\n",
        "\n",
        "The copy() returns a shallow copy of the list. This kind of copy is only one level deep. That means it will not go through all of its children.\n",
        "\n",
        "The deepcopy() returns a deep copy of the list. Copying an object this way walks the whole object tree to create a fully independent clone of the original object and all of its children."
      ],
      "metadata": {
        "id": "vMMUW4aFaRjg"
      }
    }
  ]
}