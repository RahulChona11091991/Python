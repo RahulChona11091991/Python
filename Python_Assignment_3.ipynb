{
  "nbformat": 4,
  "nbformat_minor": 0,
  "metadata": {
    "colab": {
      "provenance": [],
      "authorship_tag": "ABX9TyM/2eX3FNliO7OjiFq+bAKz",
      "include_colab_link": true
    },
    "kernelspec": {
      "name": "python3",
      "display_name": "Python 3"
    },
    "language_info": {
      "name": "python"
    }
  },
  "cells": [
    {
      "cell_type": "markdown",
      "metadata": {
        "id": "view-in-github",
        "colab_type": "text"
      },
      "source": [
        "<a href=\"https://colab.research.google.com/github/RahulChona11091991/Python/blob/main/Python_Assignment_3.ipynb\" target=\"_parent\"><img src=\"https://colab.research.google.com/assets/colab-badge.svg\" alt=\"Open In Colab\"/></a>"
      ]
    },
    {
      "cell_type": "markdown",
      "source": [
        "1. Why are functions advantageous to have in your programs?\n",
        "\n",
        "Answer: Functions in a program\n",
        "\n",
        "*   Helps in implementing the single responsibility principle.\n",
        "*   Improves the code readability\n",
        "\n",
        "*   Improves the mantainablity\n",
        "*   Reduce the code duplication\n",
        "\n",
        "*   Brings in the benefit of reusing code\n",
        "*   Most Importantly it's efficient for memory release. Since each function maintains its own local scope, and any local temp variable(memory) which is not required by calling function can be released as soon as scope of current function finishes.\n",
        "\n",
        "\n",
        "\n",
        "\n",
        "\n",
        "\n",
        "\n",
        "\n"
      ],
      "metadata": {
        "id": "V3RdTu8PfowF"
      }
    },
    {
      "cell_type": "code",
      "execution_count": null,
      "metadata": {
        "id": "UhZ_Q_SqdoPY"
      },
      "outputs": [],
      "source": []
    },
    {
      "cell_type": "markdown",
      "source": [
        "2. When does the code in a function run: when it&#39;s specified or when it&#39;s called?\n",
        "\n",
        "Answer: The code in a function run: When it's called."
      ],
      "metadata": {
        "id": "uK-TUX7Gfn4G"
      }
    },
    {
      "cell_type": "markdown",
      "source": [
        "3. What statement creates a function?\n",
        "\n",
        "Answer: \"def\" keyword followed by name of the function (for eg: sum) and colon (':')\n",
        "\n",
        "'def' creates a function object and assign to the name.\n"
      ],
      "metadata": {
        "id": "5qqx3vOyfwmu"
      }
    },
    {
      "cell_type": "code",
      "source": [
        "#Define function 'sum'\n",
        "def sum(daysInAugust, daysInSeptember):\n",
        "  total = daysInAugust + daysInSeptember\n",
        "  print(\"Sum is %d.\" % total)\n",
        "\n",
        "#Call function 'sum'\n",
        "sum(31, 30)"
      ],
      "metadata": {
        "colab": {
          "base_uri": "https://localhost:8080/"
        },
        "id": "CSZBMQRZpZQF",
        "outputId": "744e408b-ef3d-4505-d13f-b25b1da55aa6"
      },
      "execution_count": 15,
      "outputs": [
        {
          "output_type": "stream",
          "name": "stdout",
          "text": [
            "Sum is 61.\n"
          ]
        }
      ]
    },
    {
      "cell_type": "markdown",
      "source": [
        "4. What is the difference between a function and a function call?\n",
        "\n",
        "Answer: One main difference between those two is that function is defining set of statements within its scope, which are expected to executed when 'program/some other function' will call it.\n",
        "\n",
        "Important point to notice here is function body can also have a statement which calls another function.\n",
        "\n",
        "\n",
        "In following example, We have two functions. First we call 'functionTwoCallOne' and that function calls 'functionOne'."
      ],
      "metadata": {
        "id": "whctf_Svf0rP"
      }
    },
    {
      "cell_type": "code",
      "source": [
        "def functionOne(keyToCompare):\n",
        "  print(\"functionOne here...\")\n",
        "  return keyToCompare\n",
        "\n",
        "def functionTwoCallOne(keySent):\n",
        "  print(\"Calling functionOne\")\n",
        "\n",
        "  responseKey = functionOne(keySent)\n",
        "  if responseKey == keySent:\n",
        "    print(\"Keys matched\")\n",
        "  else:\n",
        "    print(\"Keys doesn't match\")\n",
        "\n",
        "\n",
        "functionTwoCallOne(2)"
      ],
      "metadata": {
        "colab": {
          "base_uri": "https://localhost:8080/"
        },
        "id": "x4h4A7o8wuZE",
        "outputId": "b7710506-02f3-4929-aa46-a853b394192f"
      },
      "execution_count": 21,
      "outputs": [
        {
          "output_type": "stream",
          "name": "stdout",
          "text": [
            "Calling functionOne\n",
            "functionOne here...\n",
            "Keys matched\n"
          ]
        }
      ]
    },
    {
      "cell_type": "markdown",
      "source": [
        "5. How many global scopes are there in a Python program? How many local scopes?\n",
        "\n",
        "Answer: In Python program, there is one global scope and one local scope.\n",
        "\n",
        "In total, there are four scopes i.e. Built-In, Global, Enclosing and Local.\n",
        "\n",
        "**Global scope:** Any variable defined outside of the function body, is considered to globally available to all functions.\n",
        "\n",
        "Also, we can use keyword 'global' within the body of a function, to avoid creating a local variable and instead consume or alter value of global variable defined outside of function body.\n",
        "\n",
        "**Local scope:** Scope within the body of the function is called 'Local Scope'. So, any variable defined in the block is local to that block and cannot be accessed by code outside of that block, unlike global variable."
      ],
      "metadata": {
        "id": "Yr4LQTe1f2S5"
      }
    },
    {
      "cell_type": "markdown",
      "source": [
        "6. What happens to variables in a local scope when the function call returns?\n",
        "\n",
        "Answer:"
      ],
      "metadata": {
        "id": "wRYV3fp1f3oV"
      }
    },
    {
      "cell_type": "markdown",
      "source": [
        "7. What is the concept of a return value? Is it possible to have a return value in an expression?\n",
        "\n",
        "Answer: Return statement can be used to end the execution of the function and send a value(Default or explicit value) back to calling code. Which can be used to perform further computation.\n",
        "\n",
        "If the return statement has no expression, in that case it returns 'None'.\n",
        "\n",
        "Important to note that Return statement cannot be used outside of a function.\n",
        "\n",
        "\n",
        "Yes, We can also return a values such as a Class object, Tuple, List, Dictionary, or even another function."
      ],
      "metadata": {
        "id": "-cdbFRGuf48e"
      }
    },
    {
      "cell_type": "markdown",
      "source": [
        "8. If a function does not have a return statement, what is the return value of a call to that function?\n",
        "\n",
        "Answer: If the function doesn't have any return statement, then it returns 'None'."
      ],
      "metadata": {
        "id": "7t7v8Yiqf64T"
      }
    },
    {
      "cell_type": "markdown",
      "source": [
        "9. How do you make a function variable refer to the global variable?\n",
        "\n",
        "Answer: We use keyword 'global' before the name of the function variable."
      ],
      "metadata": {
        "id": "jezwH2_Ef8IW"
      }
    },
    {
      "cell_type": "code",
      "source": [
        "age = 22\n",
        "\n",
        "def overrideLocalVariable():\n",
        "  global age\n",
        "  age = 25\n",
        "\n",
        "overrideLocalVariable()\n",
        "\n",
        "print(\"Age is %d.\" % age)"
      ],
      "metadata": {
        "colab": {
          "base_uri": "https://localhost:8080/"
        },
        "id": "LirdQP9y8bXf",
        "outputId": "d9ab3507-0bae-435a-9245-81482a852d1e"
      },
      "execution_count": 24,
      "outputs": [
        {
          "output_type": "stream",
          "name": "stdout",
          "text": [
            "Age is 25.\n"
          ]
        }
      ]
    },
    {
      "cell_type": "markdown",
      "source": [
        "10. What is the data type of None?\n",
        "\n",
        "Answer: None is a data tupe of the class NoneType."
      ],
      "metadata": {
        "id": "6_L9So5Af9Ou"
      }
    },
    {
      "cell_type": "markdown",
      "source": [
        "11. What does the sentence import areallyourpetsnamederic do?\n",
        "\n",
        "Answer: The 'import' statement imports a module named areallyourpetsnamederic."
      ],
      "metadata": {
        "id": "8MYElMFOf-OX"
      }
    },
    {
      "cell_type": "markdown",
      "source": [
        "12. If you had a bacon() feature in a spam module, what would you call it after importing spam?\n",
        "\n",
        "Answer: spam.bacon()"
      ],
      "metadata": {
        "id": "isOCYejMf_Yd"
      }
    },
    {
      "cell_type": "markdown",
      "source": [
        "13. What can you do to save a programme from crashing if it encounters an error?\n",
        "\n",
        "Answer: If there is a piece of code/programme which has possibility of throwing an exception, due to which programme can crash, we should put that use try clause."
      ],
      "metadata": {
        "id": "14n4AXoNgAvZ"
      }
    },
    {
      "cell_type": "markdown",
      "source": [
        "14. What is the purpose of the try clause? What is the purpose of the except clause?\n",
        "\n",
        "Answer: To save the programme from crashing, we use try clause. If an error happens, the code in except clause gets executed."
      ],
      "metadata": {
        "id": "sxL72FBpgDYa"
      }
    }
  ]
}