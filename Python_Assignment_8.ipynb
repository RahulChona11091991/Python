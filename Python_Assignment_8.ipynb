{
  "nbformat": 4,
  "nbformat_minor": 0,
  "metadata": {
    "colab": {
      "provenance": [],
      "authorship_tag": "ABX9TyPc401g3/R8ZgLHX2hMwRCo",
      "include_colab_link": true
    },
    "kernelspec": {
      "name": "python3",
      "display_name": "Python 3"
    },
    "language_info": {
      "name": "python"
    }
  },
  "cells": [
    {
      "cell_type": "markdown",
      "metadata": {
        "id": "view-in-github",
        "colab_type": "text"
      },
      "source": [
        "<a href=\"https://colab.research.google.com/github/RahulChona11091991/Python/blob/main/Python_Assignment_8.ipynb\" target=\"_parent\"><img src=\"https://colab.research.google.com/assets/colab-badge.svg\" alt=\"Open In Colab\"/></a>"
      ]
    },
    {
      "cell_type": "markdown",
      "source": [
        "Q1. In Python, what is the difference between a built-in function and a user-defined function? Provide an example of each.\n",
        "\n",
        "\n",
        "\n",
        "```\n",
        "Answer:\n",
        "\n",
        "Built-in function: Pre-defined functions that we can use without the need for explicit definition and comes with the language.\n",
        "\n",
        "\n",
        "User-defined function: Functions those are created by the programmer using the 'def' keyword, to perform a specific task.\n",
        "\n",
        "```"
      ],
      "metadata": {
        "id": "c8oZGxcFX7J3"
      }
    },
    {
      "cell_type": "code",
      "execution_count": null,
      "metadata": {
        "colab": {
          "base_uri": "https://localhost:8080/"
        },
        "id": "vX-3bzJSX4sq",
        "outputId": "5823538e-3be0-4c22-a8ad-de174a51acc1"
      },
      "outputs": [
        {
          "output_type": "stream",
          "name": "stdout",
          "text": [
            "------  ------ Built-In Function `len()` ------  ------\n",
            "Length of the list: 5\n",
            "\n",
            "\n",
            "------  ------ User-Definded Function `square` ------  ------\n",
            "Square of 6: 36\n"
          ]
        }
      ],
      "source": [
        "#Example: Built-In Function len()\n",
        "listObject = [1, 2, 3, 4, 5]\n",
        "print(f\"------  ------ Built-In Function `len()` ------  ------\")\n",
        "print(f\"Length of the list: {len(listObject)}\")\n",
        "\n",
        "print(\"\\n\")\n",
        "\n",
        "#Example: User-Definded Function\n",
        "def square(x):\n",
        "    return x ** 2\n",
        "\n",
        "# Calling the function\n",
        "inputNumber = 6\n",
        "result = square(inputNumber)\n",
        "print(f\"------  ------ User-Definded Function `square` ------  ------\")\n",
        "print(f\"Square of {inputNumber}:\", result)"
      ]
    },
    {
      "cell_type": "markdown",
      "source": [
        "\n",
        "\n",
        "```\n",
        "2. How can you pass arguments to a function in Python? Explain the difference between positional arguments and keyword arguments.\n",
        "\n",
        "Answer:\n",
        "I can pass arguments to a function in two main ways:\n",
        "- Positional arguments\n",
        "- Keyword arguments\n",
        "\n",
        "\n",
        "Positional arguments: The values are passed to the function based on their order where number of parameters and respective order should match with the function being called.\n",
        "\n",
        "Keyword arguments: Whereas with Keyword arguments, we explicitly mention parameter's name and parameters 'order' doesn't matter.\n",
        "\n",
        "```\n",
        "\n"
      ],
      "metadata": {
        "id": "06PLt2W4b-Ja"
      }
    },
    {
      "cell_type": "code",
      "source": [
        "def getFullName(fname, lname):\n",
        "    print(f\"{fname} {lname}\")\n",
        "\n",
        "# Example of Positional argument\n",
        "getFullName(\"Krish\", \"Naik\")\n",
        "getFullName(\"Naik\", \"Krish\")\n",
        "\n",
        "\n",
        "# Example of Keyword argument\n",
        "getFullName(lname=\"Chona\", fname=\"Rahul\")\n",
        "getFullName(fname=\"Rahul\", lname=\"Chona\")"
      ],
      "metadata": {
        "colab": {
          "base_uri": "https://localhost:8080/"
        },
        "id": "S-RyjpIcdbU4",
        "outputId": "873c88ab-6163-40c1-a6fb-147965f9e120"
      },
      "execution_count": null,
      "outputs": [
        {
          "output_type": "stream",
          "name": "stdout",
          "text": [
            "Krish Naik\n",
            "Naik Krish\n",
            "Rahul Chona\n",
            "Rahul Chona\n"
          ]
        }
      ]
    },
    {
      "cell_type": "markdown",
      "source": [
        "```\n",
        "3. What is the purpose of the return statement in a function? Can a function have multiple return statements? Explain with an example.\n",
        "\n",
        "Answer:\n",
        "The purpose of return statement in a function is to send a value back to the caller.\n",
        "\n",
        "Yes, a function can have multiple return statements. But only one return statement can be executed, after which function exits and returns specified value. Any other return statement in that function will not be executed.\n",
        "\n",
        "```\n",
        "\n"
      ],
      "metadata": {
        "id": "puGmjDjDeH03"
      }
    },
    {
      "cell_type": "code",
      "source": [
        "def checkIfAdult(age):\n",
        "    if age == 0:\n",
        "        return f\"Invalid input => {age} Years\"\n",
        "    elif age >= 18:\n",
        "        return f\"Yes, User is an adult => {age} Years\"\n",
        "    else:\n",
        "        return f\"No, User is not an adult => {age} Years\"\n",
        "\n",
        "print(checkIfAdult(0))\n",
        "print(checkIfAdult(12))\n",
        "print(checkIfAdult(18))\n",
        "print(checkIfAdult(20))"
      ],
      "metadata": {
        "colab": {
          "base_uri": "https://localhost:8080/"
        },
        "id": "DsXdtD0tfF-j",
        "outputId": "e718394b-6e9d-4af5-9d93-1694e86684f6"
      },
      "execution_count": null,
      "outputs": [
        {
          "output_type": "stream",
          "name": "stdout",
          "text": [
            "Invalid input => 0 Years\n",
            "No, User is not an adult => 12 Years\n",
            "Yes, User is an adult => 18 Years\n",
            "Yes, User is an adult => 20 Years\n"
          ]
        }
      ]
    },
    {
      "cell_type": "markdown",
      "source": [
        "```\n",
        "4. What are lambda functions in Python? How are they different from regular functions? Provide an example where a lambda function can be useful.\n",
        "\n",
        "Answer: Lambda functions are inline functions which are used short-term and temporary operations. Unlike regular functions which we define using 'def' keyword and probably reuse, lambda function are a one-time-use functions created using 'lambda' keyword. Lambda functions have no name but can be assigned to a variable.  \n",
        "\n",
        "```\n",
        "\n"
      ],
      "metadata": {
        "id": "dKeWnzcDgjhf"
      }
    },
    {
      "cell_type": "code",
      "source": [
        "# Using a regular function for subtraction of two numbers\n",
        "def subtractTwo(x, y):\n",
        "    return x - y\n",
        "\n",
        "resultRegularFunc = subtractTwo(10, 4)\n",
        "\n",
        "\n",
        "# Using a lambda function for subtraction of two numbers\n",
        "subtractLambda = lambda x, y: x - y\n",
        "resultLambda = subtractLambda(10, 4)\n",
        "\n",
        "print(\"Subtraction result (regular function):\", resultRegularFunc)\n",
        "print(\"Subtraction result (lambda function):\", resultLambda)"
      ],
      "metadata": {
        "colab": {
          "base_uri": "https://localhost:8080/"
        },
        "id": "Ph5Xw5z9mUSW",
        "outputId": "7abf16c4-b103-43ed-c186-b11939fb9485"
      },
      "execution_count": null,
      "outputs": [
        {
          "output_type": "stream",
          "name": "stdout",
          "text": [
            "Subtraction result (regular function): 6\n",
            "Subtraction result (lambda function): 6\n"
          ]
        }
      ]
    },
    {
      "cell_type": "markdown",
      "source": [
        "```\n",
        "5. How does the concept of \"scope\" apply to functions in Python? Explain the difference between local scope and global scope.\n",
        "\n",
        "Answer: Scope of the variable actually defines in which region of the program the variable is accessible.\n",
        "\n",
        "Local Scope: variables declared within a function/block, have a local scope. Those variables are only accessible within that function and are destroyed after the execution of the function.\n",
        "\n",
        "Global Scope: When a variable is declared outside of a function/block, have a global scope. Global variables are declared at the outermost level of a program and are accessible from anywhere in the program. Global variable persist throughout the execution of the program.\n",
        "\n",
        "```\n",
        "\n"
      ],
      "metadata": {
        "id": "ThfCoHjtoxRm"
      }
    },
    {
      "cell_type": "code",
      "source": [
        "def local_Var_Function():\n",
        "    x = 20  # local variable\n",
        "    print(x)\n",
        "\n",
        "local_Var_Function()"
      ],
      "metadata": {
        "colab": {
          "base_uri": "https://localhost:8080/"
        },
        "id": "aPxKI1ettPVs",
        "outputId": "db49a6e1-5cd1-4fc5-8b20-567df61b2143"
      },
      "execution_count": 1,
      "outputs": [
        {
          "output_type": "stream",
          "name": "stdout",
          "text": [
            "20\n"
          ]
        }
      ]
    },
    {
      "cell_type": "code",
      "source": [
        "y = 40  # global variable\n",
        "\n",
        "def global_Var_Function():\n",
        "    print(y)\n",
        "\n",
        "global_Var_Function()\n",
        "print(y)  # global scope."
      ],
      "metadata": {
        "colab": {
          "base_uri": "https://localhost:8080/"
        },
        "id": "AxB2pw5DtSq5",
        "outputId": "7524a49a-458e-4b50-ebef-7bfcac4306f7"
      },
      "execution_count": 3,
      "outputs": [
        {
          "output_type": "stream",
          "name": "stdout",
          "text": [
            "40\n",
            "40\n"
          ]
        }
      ]
    },
    {
      "cell_type": "markdown",
      "source": [
        "\n",
        "\n",
        "```\n",
        "6. How can you use the \"return\" statement in a Python function to return multiple values?\n",
        "\n",
        "Answer: There are ways to return multiple values using \"return\" statement\n",
        "\n",
        "1.   Using Tuple\n",
        "2.   Using List\n",
        "3.   Using Dictionary\n",
        "```\n",
        "\n"
      ],
      "metadata": {
        "id": "9f-uJ86ltfjn"
      }
    },
    {
      "cell_type": "code",
      "source": [
        "def multiple_Values():\n",
        "    x = 5\n",
        "    y = 10\n",
        "    z = 15\n",
        "    return x, y, z  # Returning Tuple\n",
        "\n",
        "resultTuple = multiple_Values()\n",
        "print(f\"Result_Tuple: {resultTuple}\")\n",
        "\n"
      ],
      "metadata": {
        "colab": {
          "base_uri": "https://localhost:8080/"
        },
        "id": "JrDWB3lbuWdk",
        "outputId": "3a16a35c-d46a-4122-e215-9982df35f1d1"
      },
      "execution_count": 4,
      "outputs": [
        {
          "output_type": "stream",
          "name": "stdout",
          "text": [
            "Result_Tuple: (5, 10, 15)\n"
          ]
        }
      ]
    },
    {
      "cell_type": "code",
      "source": [
        "def multiple_Values_List():\n",
        "    x = 5\n",
        "    y = 10\n",
        "    z = 15\n",
        "    return [x, y, z]  # Return List\n",
        "\n",
        "result_list = multiple_Values_List()\n",
        "print(f\"Result_List: {result_list}\")"
      ],
      "metadata": {
        "colab": {
          "base_uri": "https://localhost:8080/"
        },
        "id": "nfsSdr0Wu0sm",
        "outputId": "1357c21d-f833-47ba-ec3f-3560e686099a"
      },
      "execution_count": 5,
      "outputs": [
        {
          "output_type": "stream",
          "name": "stdout",
          "text": [
            "Result_List: [5, 10, 15]\n"
          ]
        }
      ]
    },
    {
      "cell_type": "code",
      "source": [
        "def multiple_Values_Dict():\n",
        "    x = 5\n",
        "    y = 10\n",
        "    z = 15\n",
        "    return {'a': x, 'b': y, 'c': z}  # Return dictionary\n",
        "\n",
        "result_dict = multiple_Values_Dict()\n",
        "print(f\"Result_Dict: {result_dict}\")"
      ],
      "metadata": {
        "colab": {
          "base_uri": "https://localhost:8080/"
        },
        "id": "h7908uwJvKbA",
        "outputId": "1fa903ca-99a0-4d45-a79b-e008822fee7e"
      },
      "execution_count": 6,
      "outputs": [
        {
          "output_type": "stream",
          "name": "stdout",
          "text": [
            "Result_Dict: {'a': 5, 'b': 10, 'c': 15}\n"
          ]
        }
      ]
    },
    {
      "cell_type": "markdown",
      "source": [
        "\n",
        "\n",
        "```\n",
        "7. What is the difference between the \"pass by value\" and \"pass by reference\" concepts when it comes to function arguments in Python?\n",
        "\n",
        "Answer: In terms of function arguments,\n",
        "\n",
        "Pass by Value: In pass by value, the actual value of the variable is passed to the function and any changes made to the parameter inside the function do not affect the original variable.\n",
        "\n",
        "Pass by Reference: In pass by reference, a reference to the memory location of the variable is passed to the function and any changes made to the parameter inside the function affect the original variable.\n",
        "\n",
        "```\n",
        "\n"
      ],
      "metadata": {
        "id": "FyQJY9z8v-43"
      }
    },
    {
      "cell_type": "code",
      "source": [
        "print(\"Pass By Value\")\n",
        "def pass_By_Value(x):\n",
        "    x = 10 # Literal\n",
        "    print(\"Inside function:\", x)\n",
        "\n",
        "y = 5 # Literal\n",
        "pass_By_Value(y)\n",
        "print(\"Outside function:\", y)"
      ],
      "metadata": {
        "colab": {
          "base_uri": "https://localhost:8080/"
        },
        "id": "d_oEnd7Nw0j3",
        "outputId": "cd495fc6-0573-4c80-caf9-24ca25280357"
      },
      "execution_count": 9,
      "outputs": [
        {
          "output_type": "stream",
          "name": "stdout",
          "text": [
            "Pass By Value\n",
            "Inside function: 10\n",
            "Outside function: 5\n"
          ]
        }
      ]
    },
    {
      "cell_type": "code",
      "source": [
        "print(\"Pass By Reference\")\n",
        "def pass_By_Reference(item_List_Ref):\n",
        "    item_List_Ref.append(3) # adding one more element to the list\n",
        "    print(\"Inside function:\", item_List_Ref)\n",
        "\n",
        "item_List = [1, 2] # List\n",
        "pass_By_Reference(item_List)\n",
        "print(\"Outside function:\", item_List)\n"
      ],
      "metadata": {
        "colab": {
          "base_uri": "https://localhost:8080/"
        },
        "id": "jd0lXJ0lw3QQ",
        "outputId": "4a2b2963-1859-413f-e74f-0e79e88c3627"
      },
      "execution_count": 11,
      "outputs": [
        {
          "output_type": "stream",
          "name": "stdout",
          "text": [
            "Pass By Reference\n",
            "Inside function: [1, 2, 3]\n",
            "Outside function: [1, 2, 3]\n"
          ]
        }
      ]
    },
    {
      "cell_type": "markdown",
      "source": [
        "\n",
        "\n",
        "```\n",
        "8. Create a function that can intake integer or decimal value and do following operations:\n",
        "a. Logarithmic function (log x)\n",
        "b. Exponential function (exp(x))\n",
        "c. Power function with base 2 (2^x)\n",
        "d. Square root\n",
        "```\n",
        "\n"
      ],
      "metadata": {
        "id": "SfquRXzdx1I1"
      }
    },
    {
      "cell_type": "code",
      "source": [
        "import math\n",
        "\n",
        "def math_Operations(x):\n",
        "    # Logarithmic function (log x)\n",
        "    log_Result = math.log(x) if x > 0 else None\n",
        "\n",
        "    # Exponential function (exp(x))\n",
        "    exp_Result = math.exp(x)\n",
        "\n",
        "    # Power function with base 2 (2^x)\n",
        "    power_Result = 2 ** x\n",
        "\n",
        "    # Square root\n",
        "    sqrt_Result = math.sqrt(x) if x >= 0 else None\n",
        "\n",
        "    return log_Result, exp_Result, power_Result, sqrt_Result\n",
        "\n",
        "\n",
        "input_value = 4.0\n",
        "results = math_Operations(input_value) # Call Function\n",
        "\n",
        "print(f\"Logarithmic function (log x): {results[0]}\")\n",
        "print(f\"Exponential function (exp(x)): {results[1]}\")\n",
        "print(f\"Power function with base 2 (2^{input_value}): {results[2]}\")\n",
        "print(f\"Square root: {results[3]}\")"
      ],
      "metadata": {
        "colab": {
          "base_uri": "https://localhost:8080/"
        },
        "id": "jc20bO3I0MQS",
        "outputId": "f52fe9b5-c749-4491-b530-6c57afb3ed61"
      },
      "execution_count": 13,
      "outputs": [
        {
          "output_type": "stream",
          "name": "stdout",
          "text": [
            "Logarithmic function (log x): 1.3862943611198906\n",
            "Exponential function (exp(x)): 54.598150033144236\n",
            "Power function with base 2 (2^4.0): 16.0\n",
            "Square root: 2.0\n"
          ]
        }
      ]
    },
    {
      "cell_type": "markdown",
      "source": [
        "```\n",
        "9. Create a function that takes a full name as an argument and returns first name and last name.\n",
        "```\n",
        "\n"
      ],
      "metadata": {
        "id": "TQGG9fVB2r2d"
      }
    },
    {
      "cell_type": "code",
      "source": [
        "def split_Name(full_Name):\n",
        "\n",
        "    print(\"Full Name:\", full_Name)\n",
        "    # Split\n",
        "    name_parts = full_Name.split()\n",
        "\n",
        "    first_Name = name_parts[0] if name_parts else None\n",
        "    last_Name = name_parts[-1] if name_parts else None\n",
        "\n",
        "    return first_Name, last_Name\n",
        "\n",
        "\n",
        "full_Name = \"Rahul Chona\"\n",
        "first_Name, last_Name = split_Name(full_Name)\n",
        "\n",
        "print(\"First Name:\", first_Name)\n",
        "print(\"Last Name:\", last_Name)"
      ],
      "metadata": {
        "colab": {
          "base_uri": "https://localhost:8080/"
        },
        "id": "3ZEkIrd525C1",
        "outputId": "232d668d-10f3-4b39-c45e-c848c743b8a2"
      },
      "execution_count": 18,
      "outputs": [
        {
          "output_type": "stream",
          "name": "stdout",
          "text": [
            "Full Name: Rahul Chona\n",
            "First Name: Rahul\n",
            "Last Name: Chona\n"
          ]
        }
      ]
    }
  ]
}