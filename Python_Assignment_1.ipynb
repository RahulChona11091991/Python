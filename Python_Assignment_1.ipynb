{
  "nbformat": 4,
  "nbformat_minor": 0,
  "metadata": {
    "colab": {
      "provenance": []
    },
    "kernelspec": {
      "name": "python3",
      "display_name": "Python 3"
    },
    "language_info": {
      "name": "python"
    }
  },
  "cells": [
    {
      "cell_type": "markdown",
      "source": [
        "**Python Assignment 1**"
      ],
      "metadata": {
        "id": "Rjd0FkTGj6-F"
      }
    },
    {
      "cell_type": "markdown",
      "source": [
        "1. In the below elements which of them are values or an expression?\n",
        "eg:- values can be\n",
        "integer or string and expressions will be mathematical operators.\n",
        "\n",
        "**Answer:**\n",
        "\n",
        "\n",
        "**Expression:** *\n",
        "\n",
        "**Value:** 'hello'\n",
        "\n",
        "**Value:** -87.8\n",
        "\n",
        "**Expression:** -\n",
        "\n",
        "**Expression:** /\n",
        "\n",
        "**Expression:** +\n",
        "\n",
        "**Value:** 6"
      ],
      "metadata": {
        "id": "wW-DDBtfk_H3"
      }
    },
    {
      "cell_type": "markdown",
      "source": [
        "2. What is the difference between string and variable?\n",
        "\n",
        "\n",
        "**Answer:**\n",
        "\n",
        "String is data(a sequence of characters) which we can store in a variable. For example: 'hello' in question 1 is a string. Whereas variables are symbols which we can use to store data in a program.\n",
        "\n"
      ],
      "metadata": {
        "id": "NG81s7Qel9gi"
      }
    },
    {
      "cell_type": "markdown",
      "source": [
        "3. Describe three different data types.\n",
        "\n",
        "**Answer:**\n",
        "\n",
        "**Numeric data types:**\n",
        "- int: Holds signed integer numners ex: intVariable = 10,\n",
        "- float: Holds floating precison numbers ex: floatVariable = 10.10,\n",
        "- complex: Holds complex numbers ex: intVariable = 10+3x\n",
        "\n",
        "\n",
        "**String data types:**\n",
        "- str: string/str is a sequence of characters.\n",
        "For example: stringVariable = \"Hello World\"\n",
        "\n",
        "\n",
        "**Sequence types:**\n",
        "- list: List is an ordered collection of data. For example: listVariable = [\"Hello\",\"world\",2023,\"July\",3,2023],\n",
        "- tuple: Tuple is immutable datatype which contains a collection of data. For example: tupleVariable = (\"Hello\",\"world\",2023,\"July\",3,2023),\n",
        "\n",
        "\n",
        "**Mapping data type:**\n",
        "Dictionary/Dict: Dictionary is of key-value pair form of datastructure. It is an unordered collection of data. For example: dictVariable = {First_Name:\"Rahul\",Last_Name:\"Chona\", \"Age\":31}\n",
        "\n",
        "\n"
      ],
      "metadata": {
        "id": "Yg6D1Hu8LYkc"
      }
    },
    {
      "cell_type": "markdown",
      "source": [
        "4. What is an expression made up of? What do all expressions do?\n",
        "\n",
        "**Answer:**\n",
        "Expression is made up of variables, values/constants, operators and calls to other functions. Interpreter evaluates a expressions to get the result/value and return to the caller.\n"
      ],
      "metadata": {
        "id": "7K5jRNRZLZzi"
      }
    },
    {
      "cell_type": "markdown",
      "source": [
        "5. This assignment statements, like spam = 10. What is the difference between an expression and a statement?\n",
        "\n",
        "**Answer:**\n",
        "\n",
        "Here statment spam = 10, is creating a variable named spam. Therefore, statement is used for defining variables.\n",
        "Whereas expression get interpreted by the interpreter, to generate result/some value. Expression is made up of variables, values, operators and function calls.\n"
      ],
      "metadata": {
        "id": "fI38AkPP7cRS"
      }
    },
    {
      "cell_type": "markdown",
      "source": [
        "6. After running the following code, what does the variable bacon contain?\n",
        "bacon = 22\n",
        "bacon + 1\n",
        "\n",
        "**Answer:**\n",
        "\n",
        "23"
      ],
      "metadata": {
        "id": "sccLvnfE91y6"
      }
    },
    {
      "cell_type": "code",
      "execution_count": 1,
      "metadata": {
        "id": "fOrEFdJ7j5lu",
        "colab": {
          "base_uri": "https://localhost:8080/",
          "height": 0
        },
        "outputId": "85cb1a45-6b6b-4086-fa4c-6176021e4137"
      },
      "outputs": [
        {
          "output_type": "execute_result",
          "data": {
            "text/plain": [
              "23"
            ]
          },
          "metadata": {},
          "execution_count": 1
        }
      ],
      "source": [
        "bacon = 22\n",
        "bacon + 1"
      ]
    },
    {
      "cell_type": "markdown",
      "source": [
        "7. What should the values of the following two terms be?\n",
        "\n",
        "'spam' + 'spamspam'\n",
        "\n",
        "'spam' * 3\n",
        "\n",
        "**Answer:**\n",
        "\n",
        "Value of these two terms should be the same(As show below)."
      ],
      "metadata": {
        "id": "WHva_xP3-LKK"
      }
    },
    {
      "cell_type": "code",
      "source": [
        "'spam' + 'spamspam'\n"
      ],
      "metadata": {
        "colab": {
          "base_uri": "https://localhost:8080/",
          "height": 35
        },
        "id": "dbqsp8kp-cnV",
        "outputId": "eeed9c40-d285-4a22-d53c-1c87655ec0bb"
      },
      "execution_count": 3,
      "outputs": [
        {
          "output_type": "execute_result",
          "data": {
            "text/plain": [
              "'spamspamspam'"
            ],
            "application/vnd.google.colaboratory.intrinsic+json": {
              "type": "string"
            }
          },
          "metadata": {},
          "execution_count": 3
        }
      ]
    },
    {
      "cell_type": "code",
      "source": [
        "'spam' * 3"
      ],
      "metadata": {
        "colab": {
          "base_uri": "https://localhost:8080/",
          "height": 35
        },
        "id": "dI7M4_7R-m-L",
        "outputId": "eec74cf5-5c65-4a12-e273-f66957c2ed03"
      },
      "execution_count": 4,
      "outputs": [
        {
          "output_type": "execute_result",
          "data": {
            "text/plain": [
              "'spamspamspam'"
            ],
            "application/vnd.google.colaboratory.intrinsic+json": {
              "type": "string"
            }
          },
          "metadata": {},
          "execution_count": 4
        }
      ]
    },
    {
      "cell_type": "markdown",
      "source": [
        "8. Why is eggs a valid variable name while 100 is invalid?\n",
        "\n",
        "**Answer: **\n",
        "\n",
        "In Python, variable name cannot start with a number. Therefore, we cannot name a variable as 'eggs' but not as 100."
      ],
      "metadata": {
        "id": "8sLuVxrQ_QXy"
      }
    },
    {
      "cell_type": "code",
      "source": [
        "eggs = 'Valid Variable Name'\n",
        "\n",
        "eggs"
      ],
      "metadata": {
        "colab": {
          "base_uri": "https://localhost:8080/",
          "height": 35
        },
        "id": "rWxB9eOo_xcj",
        "outputId": "1a8a307d-b22c-4305-b0b1-fdd4a09b794d"
      },
      "execution_count": 6,
      "outputs": [
        {
          "output_type": "execute_result",
          "data": {
            "text/plain": [
              "'Valid Variable Name'"
            ],
            "application/vnd.google.colaboratory.intrinsic+json": {
              "type": "string"
            }
          },
          "metadata": {},
          "execution_count": 6
        }
      ]
    },
    {
      "cell_type": "code",
      "source": [
        "100 = 'Invalid Variable Name'\n",
        "\n",
        "100"
      ],
      "metadata": {
        "colab": {
          "base_uri": "https://localhost:8080/",
          "height": 133
        },
        "id": "Y-RnGjJh_xzW",
        "outputId": "11a0e0ab-89a8-4a6d-cbbf-71172be2ce7c"
      },
      "execution_count": 7,
      "outputs": [
        {
          "output_type": "error",
          "ename": "SyntaxError",
          "evalue": "ignored",
          "traceback": [
            "\u001b[0;36m  File \u001b[0;32m\"<ipython-input-7-c909fc2c98bd>\"\u001b[0;36m, line \u001b[0;32m1\u001b[0m\n\u001b[0;31m    100 = 'Invalid Variable Name'\u001b[0m\n\u001b[0m    ^\u001b[0m\n\u001b[0;31mSyntaxError\u001b[0m\u001b[0;31m:\u001b[0m cannot assign to literal here. Maybe you meant '==' instead of '='?\n"
          ]
        }
      ]
    },
    {
      "cell_type": "markdown",
      "source": [
        "9. What three functions can be used to get the integer, floating-point number, or string version of a value?\n",
        "\n",
        "**Answer:**\n",
        "\n",
        " int() , float() , and str( )"
      ],
      "metadata": {
        "id": "Pjpi8Ns3AQCv"
      }
    },
    {
      "cell_type": "code",
      "source": [
        "someValue = 10.10\n",
        "\n",
        "int(someValue)\n"
      ],
      "metadata": {
        "colab": {
          "base_uri": "https://localhost:8080/",
          "height": 0
        },
        "id": "uz4n_D70AfKX",
        "outputId": "155750c2-b694-467e-8ba0-f8da77e18174"
      },
      "execution_count": 8,
      "outputs": [
        {
          "output_type": "execute_result",
          "data": {
            "text/plain": [
              "10"
            ]
          },
          "metadata": {},
          "execution_count": 8
        }
      ]
    },
    {
      "cell_type": "code",
      "source": [
        "someValue = 10.10\n",
        "\n",
        "float(someValue)\n"
      ],
      "metadata": {
        "colab": {
          "base_uri": "https://localhost:8080/",
          "height": 0
        },
        "id": "wSFhOK-zAoL2",
        "outputId": "0bca64d0-0efc-45bd-88ec-d9fc97905a6e"
      },
      "execution_count": 9,
      "outputs": [
        {
          "output_type": "execute_result",
          "data": {
            "text/plain": [
              "10.1"
            ]
          },
          "metadata": {},
          "execution_count": 9
        }
      ]
    },
    {
      "cell_type": "code",
      "source": [
        "someValue = 10.10\n",
        "\n",
        "str(someValue)\n"
      ],
      "metadata": {
        "colab": {
          "base_uri": "https://localhost:8080/",
          "height": 35
        },
        "id": "YM5m-qvxAoXZ",
        "outputId": "35bd9632-1d19-45e5-cc95-2e49e0d62b58"
      },
      "execution_count": 10,
      "outputs": [
        {
          "output_type": "execute_result",
          "data": {
            "text/plain": [
              "'10.1'"
            ],
            "application/vnd.google.colaboratory.intrinsic+json": {
              "type": "string"
            }
          },
          "metadata": {},
          "execution_count": 10
        }
      ]
    },
    {
      "cell_type": "markdown",
      "source": [
        "10. Why does this expression cause an error? How can you fix it?\n",
        "\n",
        "'I have eaten ' + 99 + ' burritos.'\n",
        "\n",
        "**Answwer:**\n",
        "\n",
        "Because we can only concatenate only str typeOf values. And since 99 is an integre typeOf value, we getting the error.\n",
        "\n",
        "To fix this error, we can convert 99 to string type.\n",
        "\n",
        "For example(As shown below): 'I have eaten ' + str(99) + ' burritos.'"
      ],
      "metadata": {
        "id": "qzu-wTuAAx7o"
      }
    },
    {
      "cell_type": "code",
      "source": [
        "'I have eaten ' + 99 + ' burritos.'"
      ],
      "metadata": {
        "colab": {
          "base_uri": "https://localhost:8080/",
          "height": 169
        },
        "id": "xWxsK_w0A8CU",
        "outputId": "3111e2cc-851f-4c86-8aa6-263171848d6f"
      },
      "execution_count": 11,
      "outputs": [
        {
          "output_type": "error",
          "ename": "TypeError",
          "evalue": "ignored",
          "traceback": [
            "\u001b[0;31m---------------------------------------------------------------------------\u001b[0m",
            "\u001b[0;31mTypeError\u001b[0m                                 Traceback (most recent call last)",
            "\u001b[0;32m<ipython-input-11-d24137131a5c>\u001b[0m in \u001b[0;36m<cell line: 1>\u001b[0;34m()\u001b[0m\n\u001b[0;32m----> 1\u001b[0;31m \u001b[0;34m'I have eaten '\u001b[0m \u001b[0;34m+\u001b[0m \u001b[0;36m99\u001b[0m \u001b[0;34m+\u001b[0m \u001b[0;34m' burritos.'\u001b[0m\u001b[0;34m\u001b[0m\u001b[0;34m\u001b[0m\u001b[0m\n\u001b[0m",
            "\u001b[0;31mTypeError\u001b[0m: can only concatenate str (not \"int\") to str"
          ]
        }
      ]
    },
    {
      "cell_type": "code",
      "source": [
        "'I have eaten ' + str(99) + ' burritos.'"
      ],
      "metadata": {
        "colab": {
          "base_uri": "https://localhost:8080/",
          "height": 35
        },
        "id": "V-37EcATBnZz",
        "outputId": "28bf4f81-868d-47f9-e5cc-f8eb02a7b91e"
      },
      "execution_count": 12,
      "outputs": [
        {
          "output_type": "execute_result",
          "data": {
            "text/plain": [
              "'I have eaten 99 burritos.'"
            ],
            "application/vnd.google.colaboratory.intrinsic+json": {
              "type": "string"
            }
          },
          "metadata": {},
          "execution_count": 12
        }
      ]
    }
  ]
}