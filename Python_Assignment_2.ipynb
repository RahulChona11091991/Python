{
  "nbformat": 4,
  "nbformat_minor": 0,
  "metadata": {
    "colab": {
      "provenance": [],
      "authorship_tag": "ABX9TyMo/U/Gv9MDIVfqPjynEyL3",
      "include_colab_link": true
    },
    "kernelspec": {
      "name": "python3",
      "display_name": "Python 3"
    },
    "language_info": {
      "name": "python"
    }
  },
  "cells": [
    {
      "cell_type": "markdown",
      "metadata": {
        "id": "view-in-github",
        "colab_type": "text"
      },
      "source": [
        "<a href=\"https://colab.research.google.com/github/RahulChona11091991/Python/blob/main/Python_Assignment_2.ipynb\" target=\"_parent\"><img src=\"https://colab.research.google.com/assets/colab-badge.svg\" alt=\"Open In Colab\"/></a>"
      ]
    },
    {
      "cell_type": "markdown",
      "source": [
        "1.What are the two values of the Boolean data type? How do you write them?\n",
        "\n",
        "**Answer:**\n",
        "Boolean data type has only two values - True or False. There are two ways to write them as follows\n",
        "\n",
        "- True: Numerically, True can also be written as 1\n",
        "- False: Numerically, False can also be written as 0\n"
      ],
      "metadata": {
        "id": "TyYGlD2JRLQw"
      }
    },
    {
      "cell_type": "markdown",
      "source": [
        "2. What are the three different types of Boolean operators?\n",
        "\n",
        "**Answer:**\n",
        "\n",
        "Three different type of Boolean operators are\n",
        "\n",
        "- And: Conjunction, means if all the variables are true, then expression will return true as result else false\n",
        "- Or: Disjunction, means if any one of the variables is true, then expression will return true as result else false\n",
        "- Not: Negation, means if variable is true, it will return false and visa-versa\n",
        "\n",
        "\n",
        "\n"
      ],
      "metadata": {
        "id": "yur1_4VLSSbI"
      }
    },
    {
      "cell_type": "code",
      "source": [
        "True and True == True"
      ],
      "metadata": {
        "colab": {
          "base_uri": "https://localhost:8080/"
        },
        "id": "dlecGSpbUmMS",
        "outputId": "54618c11-3acc-469d-c986-cae18daaa0a5"
      },
      "execution_count": null,
      "outputs": [
        {
          "output_type": "execute_result",
          "data": {
            "text/plain": [
              "False"
            ]
          },
          "metadata": {},
          "execution_count": 6
        }
      ]
    },
    {
      "cell_type": "code",
      "source": [
        "True and False == True"
      ],
      "metadata": {
        "colab": {
          "base_uri": "https://localhost:8080/"
        },
        "id": "PYIPnHL8UzuS",
        "outputId": "2213a525-7e89-48bc-8532-7700eba5f630"
      },
      "execution_count": null,
      "outputs": [
        {
          "output_type": "execute_result",
          "data": {
            "text/plain": [
              "False"
            ]
          },
          "metadata": {},
          "execution_count": 4
        }
      ]
    },
    {
      "cell_type": "code",
      "source": [
        "True or False == True"
      ],
      "metadata": {
        "colab": {
          "base_uri": "https://localhost:8080/"
        },
        "id": "zH4osOiZU85V",
        "outputId": "7e1a4456-7053-4654-afd4-0bc281f869de"
      },
      "execution_count": null,
      "outputs": [
        {
          "output_type": "execute_result",
          "data": {
            "text/plain": [
              "True"
            ]
          },
          "metadata": {},
          "execution_count": 7
        }
      ]
    },
    {
      "cell_type": "code",
      "source": [
        "False or False == True"
      ],
      "metadata": {
        "colab": {
          "base_uri": "https://localhost:8080/"
        },
        "id": "_99YVlvGVCP3",
        "outputId": "26ccc892-1d42-464c-832c-5a4989dc657a"
      },
      "execution_count": null,
      "outputs": [
        {
          "output_type": "execute_result",
          "data": {
            "text/plain": [
              "False"
            ]
          },
          "metadata": {},
          "execution_count": 8
        }
      ]
    },
    {
      "cell_type": "code",
      "source": [
        "not False"
      ],
      "metadata": {
        "colab": {
          "base_uri": "https://localhost:8080/"
        },
        "id": "L7MKm-AwVIGG",
        "outputId": "e0c4730b-e1b8-4497-9ab2-e3c6856d1370"
      },
      "execution_count": null,
      "outputs": [
        {
          "output_type": "execute_result",
          "data": {
            "text/plain": [
              "True"
            ]
          },
          "metadata": {},
          "execution_count": 10
        }
      ]
    },
    {
      "cell_type": "code",
      "source": [
        "not True"
      ],
      "metadata": {
        "colab": {
          "base_uri": "https://localhost:8080/"
        },
        "id": "S95KD6bOVN-F",
        "outputId": "b8bcf0ac-4516-4052-9b77-b7ad922cad2a"
      },
      "execution_count": null,
      "outputs": [
        {
          "output_type": "execute_result",
          "data": {
            "text/plain": [
              "False"
            ]
          },
          "metadata": {},
          "execution_count": 11
        }
      ]
    },
    {
      "cell_type": "markdown",
      "source": [
        "3. Make a list of each Boolean operator's truth tables (i.e. every possible combination of Boolean values for the operator and what it evaluate).\n",
        "\n",
        "**Answer:**\n",
        "\n",
        "**and operator**\n",
        "\n",
        "operand1 and operand2 = Result\n",
        "\n",
        "True and True = True\n",
        "\n",
        "True and False = False\n",
        "\n",
        "False and False = False\n",
        "\n",
        "False and True = False\n",
        "\n",
        "**or operator**\n",
        "\n",
        "operand1 or operand2 = Result\n",
        "\n",
        "True or True = True\n",
        "\n",
        "True or False = True\n",
        "\n",
        "False or False = False\n",
        "\n",
        "False or True = True\n",
        "\n",
        "**not operator**\n",
        "\n",
        "not operand1 = Result\n",
        "\n",
        "not True = False\n",
        "\n",
        "not False = True\n"
      ],
      "metadata": {
        "id": "NR8TfSeCV_9r"
      }
    },
    {
      "cell_type": "markdown",
      "source": [
        "4. What are the values of the following expressions?\n",
        "\n",
        "(5 > 4) and (3 == 5) **False**\n",
        "\n",
        "not (5 > 4) **False**\n",
        "\n",
        "(5 > 4) or (3 == 5) **True**\n",
        "\n",
        "not ((5 > 4) or (3 == 5)) **False**\n",
        "\n",
        "(True and True) and (True == False) **False**\n",
        "\n",
        "(not False) or (not True) **True**"
      ],
      "metadata": {
        "id": "PcRegXBKXn1o"
      }
    },
    {
      "cell_type": "code",
      "source": [
        "(5 > 4) and (3 == 5)"
      ],
      "metadata": {
        "colab": {
          "base_uri": "https://localhost:8080/"
        },
        "id": "_tFIlOuAYHRq",
        "outputId": "271bc9ed-6166-4c7e-b09b-919a1b037c84"
      },
      "execution_count": null,
      "outputs": [
        {
          "output_type": "execute_result",
          "data": {
            "text/plain": [
              "False"
            ]
          },
          "metadata": {},
          "execution_count": 12
        }
      ]
    },
    {
      "cell_type": "code",
      "source": [
        "not (5 > 4)"
      ],
      "metadata": {
        "colab": {
          "base_uri": "https://localhost:8080/"
        },
        "id": "jCVIaZFhYchz",
        "outputId": "dd15263e-25ed-4e14-831b-87b4780e4bee"
      },
      "execution_count": null,
      "outputs": [
        {
          "output_type": "execute_result",
          "data": {
            "text/plain": [
              "False"
            ]
          },
          "metadata": {},
          "execution_count": 13
        }
      ]
    },
    {
      "cell_type": "code",
      "source": [
        "(5 > 4) or (3 == 5)"
      ],
      "metadata": {
        "colab": {
          "base_uri": "https://localhost:8080/"
        },
        "id": "G-mQmkR3Yel1",
        "outputId": "945f1679-c517-4a0e-af8c-3baf064d1ee8"
      },
      "execution_count": null,
      "outputs": [
        {
          "output_type": "execute_result",
          "data": {
            "text/plain": [
              "True"
            ]
          },
          "metadata": {},
          "execution_count": 14
        }
      ]
    },
    {
      "cell_type": "code",
      "source": [
        "not ((5 > 4) or (3 == 5))"
      ],
      "metadata": {
        "colab": {
          "base_uri": "https://localhost:8080/"
        },
        "id": "rPD1bwiLYk3h",
        "outputId": "7844745e-3213-4e63-d3e7-57b3e3c0fcc7"
      },
      "execution_count": null,
      "outputs": [
        {
          "output_type": "execute_result",
          "data": {
            "text/plain": [
              "False"
            ]
          },
          "metadata": {},
          "execution_count": 15
        }
      ]
    },
    {
      "cell_type": "code",
      "source": [
        "(True and True) and (True == False)"
      ],
      "metadata": {
        "colab": {
          "base_uri": "https://localhost:8080/"
        },
        "id": "iXyF9t1EYooy",
        "outputId": "16a8adb8-7b20-4824-801d-a0e1dec92b13"
      },
      "execution_count": null,
      "outputs": [
        {
          "output_type": "execute_result",
          "data": {
            "text/plain": [
              "False"
            ]
          },
          "metadata": {},
          "execution_count": 16
        }
      ]
    },
    {
      "cell_type": "code",
      "source": [
        "(not False) or (not True)"
      ],
      "metadata": {
        "colab": {
          "base_uri": "https://localhost:8080/"
        },
        "id": "t8pedg0iYrcD",
        "outputId": "922d8529-c19f-43b5-a7d1-094ad4fc6f0e"
      },
      "execution_count": null,
      "outputs": [
        {
          "output_type": "execute_result",
          "data": {
            "text/plain": [
              "True"
            ]
          },
          "metadata": {},
          "execution_count": 17
        }
      ]
    },
    {
      "cell_type": "markdown",
      "source": [
        "5. What are the six comparison operators?\n",
        "\n",
        "**Answer:**\n",
        "\n",
        "- Opertaor '=='\t**Equal**\n",
        "example: x == y\n",
        "\n",
        "- Opertaor '!='\t**Not Equal**\n",
        "example: x != y\n",
        "\n",
        "- Opertaor '>='\t**Greater Than or equal to**\n",
        "example: x >= y\n",
        "\n",
        "- Opertaor '<='\t**Less Than or equal to**\n",
        "example: x <= y\n",
        "\n",
        "- Opertaor '>'\t**Greater Than**\n",
        "example: x > y\n",
        "\n",
        "- Opertaor '<'\t**Less Than**\n",
        "example: x < y\n",
        "\n"
      ],
      "metadata": {
        "id": "d033hmO5Y6xo"
      }
    },
    {
      "cell_type": "markdown",
      "source": [
        "6. How do you tell the difference between the equal to and assignment operators? Describe a condition and when you would use one.\n",
        "\n",
        "**Answer:**\n",
        "Assignment operator: It change the variable on the left of the assignment operator.\n",
        "\n",
        "For example:\n",
        "\n",
        "numberOfHours = 24\n",
        "\n",
        "numberOfHours = numberOfHours + 1\n",
        "\n",
        "\n",
        "Equal to operator: It does not change the value, but check for equality between left and right side and returns a boolean value True/False as a result.\n",
        "\n",
        "For example:\n",
        "\n",
        "numberOfHoursBefore = 24\n",
        "\n",
        "numberOfHoursAfter = numberOfHoursBefore + 1\n",
        "\n",
        "\n"
      ],
      "metadata": {
        "id": "HlWpvT_gaKA9"
      }
    },
    {
      "cell_type": "code",
      "source": [
        "# Assignment Operator\n",
        "\n",
        "numberOfHours = 24\n",
        "print(numberOfHours)\n",
        "\n",
        "numberOfHours = numberOfHours + 1\n",
        "print(numberOfHours)"
      ],
      "metadata": {
        "colab": {
          "base_uri": "https://localhost:8080/"
        },
        "id": "TgR7PtU4cxib",
        "outputId": "a1e6cec2-5575-4050-b777-1739cd0b1932"
      },
      "execution_count": null,
      "outputs": [
        {
          "output_type": "stream",
          "name": "stdout",
          "text": [
            "24\n",
            "25\n"
          ]
        }
      ]
    },
    {
      "cell_type": "code",
      "source": [
        "# Equal Operator\n",
        "numberOfHoursBefore = 24\n",
        "print('numberOfHoursBefore: ', numberOfHoursBefore)\n",
        "\n",
        "numberOfHoursAfter = numberOfHoursBefore + 1\n",
        "print('numberOfHoursAfter: ', numberOfHoursAfter)\n",
        "\n",
        "print('Are they equal: ', numberOfHoursBefore == numberOfHoursAfter)"
      ],
      "metadata": {
        "colab": {
          "base_uri": "https://localhost:8080/"
        },
        "id": "EJepvxK0dB_4",
        "outputId": "436c8b25-3730-49e2-94dc-c43bdbd49cac"
      },
      "execution_count": null,
      "outputs": [
        {
          "output_type": "stream",
          "name": "stdout",
          "text": [
            "Are they equal:  False\n"
          ]
        }
      ]
    },
    {
      "cell_type": "markdown",
      "source": [
        "7. Identify the three blocks in this code:\n",
        "\n",
        "spam = 0\n",
        "<!-- Block 1 - START -->\n",
        "if spam == 10:\n",
        "print('eggs')\n",
        "<!-- Block 1 - END -->\n",
        "<!-- Block 2 - START -->\n",
        "if spam > 5:\n",
        "print('bacon')\n",
        "<!-- Block 2 - END -->\n",
        "<!-- Block 3 - START -->\n",
        "else:\n",
        "print('ham')\n",
        "print('spam')\n",
        "print('spam')\n",
        "<!-- Block 3 - END -->"
      ],
      "metadata": {
        "id": "CBEr7XNrecmM"
      }
    },
    {
      "cell_type": "code",
      "source": [
        "spam = 0\n",
        "# BLOCK 1 - START\n",
        "if spam == 10:\n",
        "  print('eggs')\n",
        "  if spam > 5:\n",
        "    # BLOCK 2 - START\n",
        "    print('bacon')\n",
        "    # BLOCK 2 - END\n",
        "  else:\n",
        "    # BLOCK 3 - START\n",
        "    print('ham')\n",
        "    print('spam')\n",
        "    print('spam')\n",
        "  # BLOCK 3 - END\n",
        "  # BLOCK 1 - END"
      ],
      "metadata": {
        "id": "ifPdf4nWgypB"
      },
      "execution_count": null,
      "outputs": []
    },
    {
      "cell_type": "markdown",
      "source": [
        "8. Write code that prints Hello if 1 is stored in spam, prints Howdy if 2 is stored in spam, and prints Greetings! if anything else is stored in spam."
      ],
      "metadata": {
        "id": "Jc7N2niIh5Gt"
      }
    },
    {
      "cell_type": "code",
      "source": [
        "spam = 1\n",
        "if spam == 1:\n",
        "  print('Hello')\n",
        "elif spam == 2:\n",
        "  print('Howdy')\n",
        "else:\n",
        "  print('Greetings!')\n",
        "\n",
        "spam = 2 #Overiding value\n",
        "if spam == 1:\n",
        "  print('Hello')\n",
        "elif spam == 2:\n",
        "  print('Howdy')\n",
        "else:\n",
        "  print('Greetings!')\n",
        "\n",
        "spam = 3 #Overiding value\n",
        "if spam == 1:\n",
        "  print('Hello')\n",
        "elif spam == 2:\n",
        "  print('Howdy')\n",
        "else:\n",
        "  print('Greetings!')"
      ],
      "metadata": {
        "colab": {
          "base_uri": "https://localhost:8080/"
        },
        "id": "yWWeHPfmh9Df",
        "outputId": "ea341fc0-7052-4d4b-bdbf-14e4eb899d02"
      },
      "execution_count": null,
      "outputs": [
        {
          "output_type": "stream",
          "name": "stdout",
          "text": [
            "Hello\n",
            "Howdy\n",
            "Greetings!\n"
          ]
        }
      ]
    },
    {
      "cell_type": "markdown",
      "source": [
        "9.If your programme is stuck in an endless loop, what keys you’ll press?\n",
        "\n",
        "**Answer:**\n",
        "\n",
        "Ctrl+C"
      ],
      "metadata": {
        "id": "uMNI8wm-ivgX"
      }
    },
    {
      "cell_type": "markdown",
      "source": [
        "10. How can you tell the difference between break and continue?\n",
        "\n",
        "**Answer:** In the current loop, Break keyword terminates the loop execution and control goes out of the loop. But Continue keyword skip just the current iteration of the loop and iterator start executing next iteration of the loop.\n"
      ],
      "metadata": {
        "id": "mhpvMiFRi_WX"
      }
    },
    {
      "cell_type": "code",
      "source": [
        "for i in range(0,5):\n",
        "       if i == 3:\n",
        "             break\n",
        "       else:\n",
        "              print (i)"
      ],
      "metadata": {
        "colab": {
          "base_uri": "https://localhost:8080/"
        },
        "id": "vDiX93IFi1nV",
        "outputId": "de5f5e70-d63c-4430-fd08-7c7e9552ef2f"
      },
      "execution_count": null,
      "outputs": [
        {
          "output_type": "stream",
          "name": "stdout",
          "text": [
            "0\n",
            "1\n",
            "2\n"
          ]
        }
      ]
    },
    {
      "cell_type": "code",
      "source": [
        "for i in range(0,5):\n",
        "       if i == 1 or i == 3 :\n",
        "             continue\n",
        "       else:\n",
        "              print (i)"
      ],
      "metadata": {
        "colab": {
          "base_uri": "https://localhost:8080/"
        },
        "id": "38taucsUk1zE",
        "outputId": "3dc4d725-5e9a-4404-dd9f-1b76ccbb77cb"
      },
      "execution_count": null,
      "outputs": [
        {
          "output_type": "stream",
          "name": "stdout",
          "text": [
            "0\n",
            "2\n",
            "4\n"
          ]
        }
      ]
    },
    {
      "cell_type": "markdown",
      "source": [
        "11. In a for loop, what is the difference between range(10), range(0, 10), and range(0, 10, 1)?\n",
        "\n",
        "**Answer:**\n",
        "\n",
        "There is no difference in the output as shown below.\n",
        "\n",
        "Range function has three constructors which give us three different ways of specific a range of iterations\n",
        "\n",
        "- range(10): starts from '0'(by default) and ends on '9' i.e \"end-1\"\n",
        "- range(0,10): starts from '0'(Explicitly mentioned by the user) and ends on '9' i.e \"end-1\"\n",
        "- range(0,10,1): starts from '0'(Explicitly mentioned by the user) and ends on '9' taking step of +1 in each iteration.\n",
        "\n"
      ],
      "metadata": {
        "id": "H0c__T-vlILQ"
      }
    },
    {
      "cell_type": "code",
      "source": [
        "for i in range(10):\n",
        "  print (i)"
      ],
      "metadata": {
        "colab": {
          "base_uri": "https://localhost:8080/"
        },
        "id": "o82jCB-8lNcl",
        "outputId": "c1425542-1d14-4205-a000-cd1b1b14528b"
      },
      "execution_count": null,
      "outputs": [
        {
          "output_type": "stream",
          "name": "stdout",
          "text": [
            "0\n",
            "1\n",
            "2\n",
            "3\n",
            "4\n",
            "5\n",
            "6\n",
            "7\n",
            "8\n",
            "9\n"
          ]
        }
      ]
    },
    {
      "cell_type": "code",
      "source": [
        "for i in range(0,10):\n",
        "  print (i)"
      ],
      "metadata": {
        "colab": {
          "base_uri": "https://localhost:8080/"
        },
        "id": "_aGJuL65l5BC",
        "outputId": "032e24b7-5b3d-4d40-8978-7552aded0d85"
      },
      "execution_count": null,
      "outputs": [
        {
          "output_type": "stream",
          "name": "stdout",
          "text": [
            "0\n",
            "1\n",
            "2\n",
            "3\n",
            "4\n",
            "5\n",
            "6\n",
            "7\n",
            "8\n",
            "9\n"
          ]
        }
      ]
    },
    {
      "cell_type": "code",
      "source": [
        "for i in range(0,10,1):\n",
        "  print (i)"
      ],
      "metadata": {
        "colab": {
          "base_uri": "https://localhost:8080/"
        },
        "id": "A3K60ma6l5N_",
        "outputId": "543612b8-7bc7-44a9-83aa-e4f99b64a4b7"
      },
      "execution_count": null,
      "outputs": [
        {
          "output_type": "stream",
          "name": "stdout",
          "text": [
            "0\n",
            "1\n",
            "2\n",
            "3\n",
            "4\n",
            "5\n",
            "6\n",
            "7\n",
            "8\n",
            "9\n"
          ]
        }
      ]
    },
    {
      "cell_type": "markdown",
      "source": [
        "12. Write a short program that prints the numbers 1 to 10 using a for loop. Then write an equivalent program that prints the numbers 1 to 10 using a while loop."
      ],
      "metadata": {
        "id": "M7SUfcgani68"
      }
    },
    {
      "cell_type": "code",
      "source": [
        "for index in range(0,10,1):\n",
        "  print(index+1)"
      ],
      "metadata": {
        "colab": {
          "base_uri": "https://localhost:8080/"
        },
        "id": "xKEXsHOBnqQg",
        "outputId": "04b70dcb-39c4-480e-e43f-2e2e9baf7dac"
      },
      "execution_count": null,
      "outputs": [
        {
          "output_type": "stream",
          "name": "stdout",
          "text": [
            "1\n",
            "2\n",
            "3\n",
            "4\n",
            "5\n",
            "6\n",
            "7\n",
            "8\n",
            "9\n",
            "10\n"
          ]
        }
      ]
    },
    {
      "cell_type": "code",
      "source": [
        "index = 1\n",
        "while index <= 10:\n",
        "  print(index)\n",
        "  index = index+1"
      ],
      "metadata": {
        "colab": {
          "base_uri": "https://localhost:8080/"
        },
        "id": "UAVJneSUn14B",
        "outputId": "0cd4f1ab-4c41-4926-ae8a-a76eab288875"
      },
      "execution_count": null,
      "outputs": [
        {
          "output_type": "stream",
          "name": "stdout",
          "text": [
            "1\n",
            "2\n",
            "3\n",
            "4\n",
            "5\n",
            "6\n",
            "7\n",
            "8\n",
            "9\n",
            "10\n"
          ]
        }
      ]
    },
    {
      "cell_type": "markdown",
      "source": [
        "If you had a function named bacon() inside a module named spam, how would you call it after importing spam?\n",
        "\n",
        "**Answer:**\n",
        "spam.bacon()"
      ],
      "metadata": {
        "id": "WMx4hRPtoYUV"
      }
    }
  ]
}