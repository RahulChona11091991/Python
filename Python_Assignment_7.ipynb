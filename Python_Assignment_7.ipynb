{
  "nbformat": 4,
  "nbformat_minor": 0,
  "metadata": {
    "colab": {
      "provenance": [],
      "authorship_tag": "ABX9TyOUe5VXWa4hlzHm67xzU4mx",
      "include_colab_link": true
    },
    "kernelspec": {
      "name": "python3",
      "display_name": "Python 3"
    },
    "language_info": {
      "name": "python"
    }
  },
  "cells": [
    {
      "cell_type": "markdown",
      "metadata": {
        "id": "view-in-github",
        "colab_type": "text"
      },
      "source": [
        "<a href=\"https://colab.research.google.com/github/RahulChona11091991/Python/blob/main/Python_Assignment_7.ipynb\" target=\"_parent\"><img src=\"https://colab.research.google.com/assets/colab-badge.svg\" alt=\"Open In Colab\"/></a>"
      ]
    },
    {
      "cell_type": "markdown",
      "source": [
        "\n",
        "```\n",
        "Q.1. Create two int type variables, apply addition, subtraction, division and multiplications\n",
        "and store the results in variables. Then print the data in the following format by calling the\n",
        "variables:\n",
        "First variable is __ & second variable is __.\n",
        "Addition: __ + __ = __\n",
        "Subtraction: __ - __ = __\n",
        "Multiplication: __ * __ = __\n",
        "Division: __ / __ = __\n",
        "```\n",
        "\n"
      ],
      "metadata": {
        "id": "RO8CL7foYGfo"
      }
    },
    {
      "cell_type": "code",
      "execution_count": 3,
      "metadata": {
        "colab": {
          "base_uri": "https://localhost:8080/"
        },
        "id": "jnaf1JvxX67H",
        "outputId": "1a87a8cf-df2b-4a43-e3bb-748a8122e785"
      },
      "outputs": [
        {
          "output_type": "stream",
          "name": "stdout",
          "text": [
            "First variable is 9 & second variable is 4.\n",
            "Addition: 9 + 4 = 13\n",
            "Subtraction: 9 - 4 = 5\n",
            "Multiplication: 9 * 4 = 36\n",
            "Division: 9 / 4 = 2.25\n"
          ]
        }
      ],
      "source": [
        "firstVariable = 9\n",
        "secondVariable = 4\n",
        "\n",
        "additionResult = firstVariable + secondVariable\n",
        "subtractionResult = firstVariable - secondVariable\n",
        "multiplicationResult = firstVariable * secondVariable\n",
        "divisionResult = firstVariable / secondVariable\n",
        "\n",
        "\n",
        "# Print the results in the specified format\n",
        "print(f\"First variable is {firstVariable} & second variable is {secondVariable}.\")\n",
        "print(f\"Addition: {firstVariable} + {secondVariable} = {additionResult}\")\n",
        "print(f\"Subtraction: {firstVariable} - {secondVariable} = {subtractionResult}\")\n",
        "print(f\"Multiplication: {firstVariable} * {secondVariable} = {multiplicationResult}\")\n",
        "print(f\"Division: {firstVariable} / {secondVariable} = {divisionResult}\")"
      ]
    },
    {
      "cell_type": "markdown",
      "source": [
        "Q.2. What is the difference between the following operators:\n",
        "(i) ‘/’ & ‘//’\n",
        "(ii) ‘**’ & ‘^’\n",
        "\n",
        "\n",
        "Answer:\n",
        "\n",
        "'/' is the division operator and performs floating-point division.\n",
        "\n",
        "'//' is the floor division operator, which returns floor value of the result. It truncates the decimal part and always returns an integer.\n",
        "\n",
        "'**' is the exponentiation operator which raises the left operand to the power of the right operand.\n",
        "\n",
        "'^' is the bitwise XOR operator which performs bitwise XOR on the binary representations of the integers."
      ],
      "metadata": {
        "id": "0T9IasqGf8uE"
      }
    },
    {
      "cell_type": "code",
      "source": [
        "resultDivisionOp = 91 / 4\n",
        "print(f\"Result of Division operator = {resultDivisionOp}\")\n",
        "\n",
        "resultFloorDivisionOp = 91 // 4\n",
        "print(f\"Result of Floor Division operator = {resultFloorDivisionOp}\")\n",
        "\n",
        "resultExponentiationOp = 4 ** 3\n",
        "print(f\"Result of exponentiation operator = {resultExponentiationOp}\")\n",
        "\n",
        "resultBitwiseXOROp = 4 ^ 3\n",
        "print(f\"Result of bitwise XOR operator = {resultBitwiseXOROp}\")"
      ],
      "metadata": {
        "colab": {
          "base_uri": "https://localhost:8080/"
        },
        "id": "ayNn5FVeguNh",
        "outputId": "c777c0b2-2855-461a-de7e-5c8b39d4d3e1"
      },
      "execution_count": 15,
      "outputs": [
        {
          "output_type": "stream",
          "name": "stdout",
          "text": [
            "Result of Division operator = 22.75\n",
            "Result of Floor Division operator = 22\n",
            "Result of exponentiation operator = 64\n",
            "Result of bitwise XOR operator = 7\n"
          ]
        }
      ]
    },
    {
      "cell_type": "markdown",
      "source": [
        "Q.3. List the logical operators.\n",
        "\n",
        "Answer:\n",
        "\n",
        "'and': Returns True if both operands are true.\n",
        "\n",
        "'or': Returns True if at least one operand is true.\n",
        "\n",
        "'not': Returns True if the operand is false, and False if the operand is true.\n"
      ],
      "metadata": {
        "id": "qOLygxEHf-nm"
      }
    },
    {
      "cell_type": "code",
      "source": [
        "# 'and' operator\n",
        "andOperator = True and False\n",
        "print(f\"{True} and {False}  = {andOperator}\")\n",
        "\n",
        "# 'or' operator\n",
        "orOperator = True or False\n",
        "print(f\"{True} or {False} = {orOperator}\")\n",
        "\n",
        "# 'not' operator\n",
        "notOperator = not True\n",
        "print(f\"not {True} = {notOperator}\")"
      ],
      "metadata": {
        "colab": {
          "base_uri": "https://localhost:8080/"
        },
        "id": "XSHPfiYIm6E5",
        "outputId": "77e5c2db-1dba-46f9-be1b-fdefcfd87448"
      },
      "execution_count": 18,
      "outputs": [
        {
          "output_type": "stream",
          "name": "stdout",
          "text": [
            "True and False  = False\n",
            "True or False = True\n",
            "not True = False\n"
          ]
        }
      ]
    },
    {
      "cell_type": "markdown",
      "source": [
        "Q.4. Explain right shift operator and left shift operator with examples.\n",
        "\n",
        "\n",
        "```\n",
        "Answer:\n",
        "\n",
        "Right Shift Operator '>>': Shifts the bits of the left operand to the right by a specified number of positions and fills the vaccant positions on left with sign bit i.e. 0 or 1\n",
        "\n",
        "Left Shift Operator '<<': Shifts the bits of the left operand to the left by a specified number of positionsand fills vacant positions on the right with zeros.\n",
        "\n",
        "```\n",
        "\n"
      ],
      "metadata": {
        "id": "fqxNvehhf_9C"
      }
    },
    {
      "cell_type": "code",
      "source": [
        "num = 100\n",
        "numBinary = bin(num)\n",
        "print(f\"Original number Binary = {numBinary}\")\n",
        "\n",
        "# Right shift by 2 positions\n",
        "rightShiftOperatorResult = num >> 2\n",
        "print(f\"New Binary with Right Shift Operator = {bin(rightShiftOperatorResult)}\")\n",
        "print(rightShiftOperatorResult)  # Output: 25\n",
        "\n",
        "print(\"\\n\\n------ ------ --- #2 --- ------ ------\\n\\n\")\n",
        "\n",
        "num = 100\n",
        "numBinary = bin(num)\n",
        "print(f\"Original number Binary = {numBinary}\")\n",
        "\n",
        "# Left shift by 2 positions\n",
        "leftShiftOperatorResult = num << 2\n",
        "print(f\"New Binary with Left Shift Operator = {bin(leftShiftOperatorResult)}\")\n",
        "print(leftShiftOperatorResult)  # Output: 400\n",
        "\n"
      ],
      "metadata": {
        "colab": {
          "base_uri": "https://localhost:8080/"
        },
        "id": "xZJySAKRoeiU",
        "outputId": "580a037f-8820-4bbe-a8f5-d6ea0c8fb393"
      },
      "execution_count": 37,
      "outputs": [
        {
          "output_type": "stream",
          "name": "stdout",
          "text": [
            "Original number Binary = 0b1100100\n",
            "New Binary with Right Shift Operator = 0b11001\n",
            "25\n",
            "\n",
            "\n",
            "------ ------ --- #2 --- ------ ------\n",
            "\n",
            "\n",
            "Original number Binary = 0b1100100\n",
            "New Binary with Left Shift Operator = 0b110010000\n",
            "400\n"
          ]
        }
      ]
    },
    {
      "cell_type": "markdown",
      "source": [
        "Q.5. Create a list containing int type data of length 15. Then write a code to check if 10 is present in the list or not."
      ],
      "metadata": {
        "id": "XxbJymx8gA-R"
      }
    },
    {
      "cell_type": "code",
      "source": [
        "# Scenario1\n",
        "numberToSerach = 10\n",
        "listObject = [3, 7, 1, 12, 5, 8, 10, 6, 4, 15, 9, 11, 2, 13, 14]\n",
        "\n",
        "if numberToSerach in listObject:\n",
        "    print(f\"{numberToSerach} is present in the list.\")\n",
        "else:\n",
        "    print(f\"{numberToSerach} is not present in the list.\")\n",
        "\n",
        "\n",
        "# Scenario2\n",
        "numberToSerach = 99\n",
        "listObject = [3, 7, 1, 12, 5, 8, 10, 6, 4, 15, 9, 11, 2, 13, 14]\n",
        "\n",
        "if numberToSerach in listObject:\n",
        "    print(f\"{numberToSerach} is present in the list.\")\n",
        "else:\n",
        "    print(f\"{numberToSerach} is not present in the list.\")"
      ],
      "metadata": {
        "colab": {
          "base_uri": "https://localhost:8080/"
        },
        "id": "D6a1Om6DW3vt",
        "outputId": "a29d5839-9097-42d0-be99-3f665994c987"
      },
      "execution_count": 40,
      "outputs": [
        {
          "output_type": "stream",
          "name": "stdout",
          "text": [
            "10 is present in the list.\n",
            "99 is not present in the list.\n"
          ]
        }
      ]
    }
  ]
}