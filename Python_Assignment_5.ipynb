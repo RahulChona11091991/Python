{
  "nbformat": 4,
  "nbformat_minor": 0,
  "metadata": {
    "colab": {
      "provenance": [],
      "authorship_tag": "ABX9TyMaWtJWXHVTaQzyGhEsg2Ug",
      "include_colab_link": true
    },
    "kernelspec": {
      "name": "python3",
      "display_name": "Python 3"
    },
    "language_info": {
      "name": "python"
    }
  },
  "cells": [
    {
      "cell_type": "markdown",
      "metadata": {
        "id": "view-in-github",
        "colab_type": "text"
      },
      "source": [
        "<a href=\"https://colab.research.google.com/github/RahulChona11091991/Python/blob/main/Python_Assignment_5.ipynb\" target=\"_parent\"><img src=\"https://colab.research.google.com/assets/colab-badge.svg\" alt=\"Open In Colab\"/></a>"
      ]
    },
    {
      "cell_type": "markdown",
      "source": [
        "1. What does an empty dictionary's code look like?"
      ],
      "metadata": {
        "id": "D3ppeyHnQgR1"
      }
    },
    {
      "cell_type": "code",
      "execution_count": 3,
      "metadata": {
        "colab": {
          "base_uri": "https://localhost:8080/"
        },
        "id": "YOMGBQGSOKPU",
        "outputId": "d789216f-bc8a-4e1b-f273-56af562680b8"
      },
      "outputs": [
        {
          "output_type": "stream",
          "name": "stdout",
          "text": [
            "<class 'dict'>\n"
          ]
        }
      ],
      "source": [
        "emptyDictionary = {}\n",
        "\n",
        "print(type(emptyDictionary))"
      ]
    },
    {
      "cell_type": "markdown",
      "source": [
        "2. What is the value of a dictionary value with the key 'foo' and the value 42?"
      ],
      "metadata": {
        "id": "OYKrqY1yRFyH"
      }
    },
    {
      "cell_type": "code",
      "source": [
        "dictObj = {'foo': 42}\n",
        "print(dictObj)"
      ],
      "metadata": {
        "colab": {
          "base_uri": "https://localhost:8080/"
        },
        "id": "smau0sCNRJHr",
        "outputId": "7c1ebed9-1e17-4ad6-90cc-493010132196"
      },
      "execution_count": 6,
      "outputs": [
        {
          "output_type": "stream",
          "name": "stdout",
          "text": [
            "{'foo': 42}\n"
          ]
        }
      ]
    },
    {
      "cell_type": "markdown",
      "source": [
        "3. What is the most significant distinction between a dictionary and a list?\n",
        "\n",
        "Answer:\n",
        "\n",
        "**list**\n",
        "\n",
        "\n",
        "*   Order of the elements entered is mantained\n",
        "*   Can contain duplicate elements\n",
        "\n",
        "\n",
        "**dictionary**\n",
        "\n",
        "\n",
        "*   Order of the elements entered is not guaranteed\n",
        "*   Cannot contain duplicate keys\n",
        "\n"
      ],
      "metadata": {
        "id": "VPHUSjmSRfJs"
      }
    },
    {
      "cell_type": "markdown",
      "source": [
        "4. What happens if you try to access spam['foo'] if spam is {'bar': 100}?"
      ],
      "metadata": {
        "id": "md_iveT6S82O"
      }
    },
    {
      "cell_type": "code",
      "source": [
        "spam = {'bar': 100}\n",
        "\n",
        "# Success\n",
        "spam['bar']\n",
        "\n",
        "# Gives an error: KeyError: 'foo'. Which means the key 'foo' does not exist in the dictionary spam.\n",
        "spam['foo']\n",
        "\n",
        "\n"
      ],
      "metadata": {
        "colab": {
          "base_uri": "https://localhost:8080/",
          "height": 250
        },
        "id": "nO7hGQ4sRoqQ",
        "outputId": "a58cfb21-889f-4df3-854c-280ed0609fc5"
      },
      "execution_count": 37,
      "outputs": [
        {
          "output_type": "error",
          "ename": "KeyError",
          "evalue": "ignored",
          "traceback": [
            "\u001b[0;31m---------------------------------------------------------------------------\u001b[0m",
            "\u001b[0;31mKeyError\u001b[0m                                  Traceback (most recent call last)",
            "\u001b[0;32m<ipython-input-37-e78c125fd7ea>\u001b[0m in \u001b[0;36m<cell line: 7>\u001b[0;34m()\u001b[0m\n\u001b[1;32m      5\u001b[0m \u001b[0;34m\u001b[0m\u001b[0m\n\u001b[1;32m      6\u001b[0m \u001b[0;31m# Gives an error: KeyError: 'foo'. Which means the key 'foo' does not exist in the dictionary spam.\u001b[0m\u001b[0;34m\u001b[0m\u001b[0;34m\u001b[0m\u001b[0m\n\u001b[0;32m----> 7\u001b[0;31m \u001b[0mspam\u001b[0m\u001b[0;34m[\u001b[0m\u001b[0;34m'foo'\u001b[0m\u001b[0;34m]\u001b[0m\u001b[0;34m\u001b[0m\u001b[0;34m\u001b[0m\u001b[0m\n\u001b[0m\u001b[1;32m      8\u001b[0m \u001b[0;34m\u001b[0m\u001b[0m\n\u001b[1;32m      9\u001b[0m \u001b[0;34m\u001b[0m\u001b[0m\n",
            "\u001b[0;31mKeyError\u001b[0m: 'foo'"
          ]
        }
      ]
    },
    {
      "cell_type": "code",
      "source": [
        "# To fix the KeyError: Use following\n",
        "#Does not give an error\n",
        "spam.get('foo')"
      ],
      "metadata": {
        "id": "AI4LWrDnZyQh"
      },
      "execution_count": 38,
      "outputs": []
    },
    {
      "cell_type": "markdown",
      "source": [
        "5. If a dictionary is stored in spam, what is the difference between the expressions 'cat' in spam and 'cat' in spam.keys()?\n",
        "\n",
        "  Answer: There is no difference. Both checks wether key 'cat' exists in the dictionary 'spam'."
      ],
      "metadata": {
        "id": "h_RP4GtFT6PF"
      }
    },
    {
      "cell_type": "code",
      "source": [
        "spam = {'cat': 100}\n",
        "'cat' in spam"
      ],
      "metadata": {
        "colab": {
          "base_uri": "https://localhost:8080/"
        },
        "id": "10lHBT8ET_C7",
        "outputId": "7d5e249f-7785-4103-d4cf-264d7ed04ba9"
      },
      "execution_count": 22,
      "outputs": [
        {
          "output_type": "execute_result",
          "data": {
            "text/plain": [
              "True"
            ]
          },
          "metadata": {},
          "execution_count": 22
        }
      ]
    },
    {
      "cell_type": "code",
      "source": [
        "'cat' in spam.keys()\n",
        "\n"
      ],
      "metadata": {
        "colab": {
          "base_uri": "https://localhost:8080/"
        },
        "id": "7D8dSlqVWnbe",
        "outputId": "5fb1be82-55ca-4416-e73a-b54450b268c6"
      },
      "execution_count": 23,
      "outputs": [
        {
          "output_type": "execute_result",
          "data": {
            "text/plain": [
              "True"
            ]
          },
          "metadata": {},
          "execution_count": 23
        }
      ]
    },
    {
      "cell_type": "markdown",
      "source": [
        "6. If a dictionary is stored in spam, what is the difference between the expressions 'cat' in spam and 'cat' in spam.values()?\n",
        "\n",
        "Answer:\n",
        "\n",
        "'cat' in spam checks whether key named as 'cat' exists in the dictionary.\n",
        "\n",
        "Whereas 'cat' in spam.values() checks whether a value 'cat' exists for any of the keys in the spam dictionary.\n",
        "     "
      ],
      "metadata": {
        "id": "oALgsujkWziA"
      }
    },
    {
      "cell_type": "code",
      "source": [
        "spam ={'cat':100}\n",
        "'cat' in spam\n"
      ],
      "metadata": {
        "colab": {
          "base_uri": "https://localhost:8080/"
        },
        "id": "0l3zlMDUXt1T",
        "outputId": "6fe253c2-4f53-44dd-b82f-a74a1e970063"
      },
      "execution_count": 25,
      "outputs": [
        {
          "output_type": "execute_result",
          "data": {
            "text/plain": [
              "True"
            ]
          },
          "metadata": {},
          "execution_count": 25
        }
      ]
    },
    {
      "cell_type": "code",
      "source": [
        "spam ={'cat':100}\n",
        "'cat' in spam.values()"
      ],
      "metadata": {
        "colab": {
          "base_uri": "https://localhost:8080/"
        },
        "id": "cADoAeHTX2LR",
        "outputId": "a32306ae-b1e5-4214-b821-4b0bb2da6671"
      },
      "execution_count": 26,
      "outputs": [
        {
          "output_type": "execute_result",
          "data": {
            "text/plain": [
              "False"
            ]
          },
          "metadata": {},
          "execution_count": 26
        }
      ]
    },
    {
      "cell_type": "markdown",
      "source": [
        "7. What is a shortcut for the following code?  \n",
        "\n",
        "if 'color' not in spam:\n",
        "  \n",
        "  spam['color'] = 'black'"
      ],
      "metadata": {
        "id": "fXK4lPZMYUBF"
      }
    },
    {
      "cell_type": "code",
      "source": [
        "spam ={'cat':100}\n",
        "spam.setdefault('color', 'black')"
      ],
      "metadata": {
        "colab": {
          "base_uri": "https://localhost:8080/",
          "height": 35
        },
        "id": "R3b-Y4L0YhUf",
        "outputId": "e98099be-195f-4c93-f657-53c45c24323f"
      },
      "execution_count": 30,
      "outputs": [
        {
          "output_type": "execute_result",
          "data": {
            "text/plain": [
              "'black'"
            ],
            "application/vnd.google.colaboratory.intrinsic+json": {
              "type": "string"
            }
          },
          "metadata": {},
          "execution_count": 30
        }
      ]
    },
    {
      "cell_type": "code",
      "source": [
        "print(spam)"
      ],
      "metadata": {
        "colab": {
          "base_uri": "https://localhost:8080/"
        },
        "id": "qSH3lwYrYkky",
        "outputId": "d0d6b4fb-2576-42fc-cbdd-5b62e83c2b91"
      },
      "execution_count": 31,
      "outputs": [
        {
          "output_type": "stream",
          "name": "stdout",
          "text": [
            "{'cat': 100, 'color': 'black'}\n"
          ]
        }
      ]
    },
    {
      "cell_type": "markdown",
      "source": [
        "8. How do you \"pretty print\" dictionary values using which module and function?\n",
        "\n",
        "Answer: Using 'pprint' function from 'pprint' module."
      ],
      "metadata": {
        "id": "cTKONalWY1Ll"
      }
    },
    {
      "cell_type": "code",
      "source": [
        "import pprint\n",
        "spam = [\n",
        "    {'cat': 100, 'color': 'black'},\n",
        "{'cat': 101, 'color': 'black'},\n",
        "    {'cat': 102, 'color': 'black'},\n",
        "    {'cat': 103, 'color': 'black'},\n",
        "]\n"
      ],
      "metadata": {
        "id": "HoYUQJvnY7X1"
      },
      "execution_count": 34,
      "outputs": []
    },
    {
      "cell_type": "code",
      "source": [
        "print(spam)\n",
        "# Printing using 'print'"
      ],
      "metadata": {
        "colab": {
          "base_uri": "https://localhost:8080/"
        },
        "id": "AV7ssWGSZWf7",
        "outputId": "ef3f0dcc-3587-4641-e907-8ccfa7a5fb7d"
      },
      "execution_count": 35,
      "outputs": [
        {
          "output_type": "stream",
          "name": "stdout",
          "text": [
            "[{'cat': 100, 'color': 'black'}, {'cat': 101, 'color': 'black'}, {'cat': 102, 'color': 'black'}, {'cat': 103, 'color': 'black'}]\n"
          ]
        }
      ]
    },
    {
      "cell_type": "code",
      "source": [
        "pprint.pprint(spam)\n",
        "# Printing using 'pprint' from 'pprint' module"
      ],
      "metadata": {
        "colab": {
          "base_uri": "https://localhost:8080/"
        },
        "id": "yD7WaNk4ZXPP",
        "outputId": "aa1193c7-b39a-4e48-db6f-3883ce20b947"
      },
      "execution_count": 36,
      "outputs": [
        {
          "output_type": "stream",
          "name": "stdout",
          "text": [
            "[{'cat': 100, 'color': 'black'},\n",
            " {'cat': 101, 'color': 'black'},\n",
            " {'cat': 102, 'color': 'black'},\n",
            " {'cat': 103, 'color': 'black'}]\n"
          ]
        }
      ]
    }
  ]
}