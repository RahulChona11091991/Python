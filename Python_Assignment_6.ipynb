{
  "nbformat": 4,
  "nbformat_minor": 0,
  "metadata": {
    "colab": {
      "provenance": [],
      "authorship_tag": "ABX9TyOoGi1e6xul47m8w2hCuFJk",
      "include_colab_link": true
    },
    "kernelspec": {
      "name": "python3",
      "display_name": "Python 3"
    },
    "language_info": {
      "name": "python"
    }
  },
  "cells": [
    {
      "cell_type": "markdown",
      "metadata": {
        "id": "view-in-github",
        "colab_type": "text"
      },
      "source": [
        "<a href=\"https://colab.research.google.com/github/RahulChona11091991/Python/blob/main/Python_Assignment_6.ipynb\" target=\"_parent\"><img src=\"https://colab.research.google.com/assets/colab-badge.svg\" alt=\"Open In Colab\"/></a>"
      ]
    },
    {
      "cell_type": "markdown",
      "source": [
        "Q.1. What are keywords in python? Using the keyword library, print all the python keywords."
      ],
      "metadata": {
        "id": "dWukwS28hlzM"
      }
    },
    {
      "cell_type": "markdown",
      "source": [
        "Answer: keywords in python, are reserved words that have specific purposes."
      ],
      "metadata": {
        "id": "kjmFY-ulibiI"
      }
    },
    {
      "cell_type": "code",
      "source": [
        "import keyword\n",
        "import pprint\n",
        "\n",
        "\n",
        "pprint.pprint(keyword.kwlist)"
      ],
      "metadata": {
        "colab": {
          "base_uri": "https://localhost:8080/"
        },
        "id": "-VOUjGK1iMDt",
        "outputId": "5ed25179-2be3-412b-9841-afbda4b18429"
      },
      "execution_count": 2,
      "outputs": [
        {
          "output_type": "stream",
          "name": "stdout",
          "text": [
            "['False',\n",
            " 'None',\n",
            " 'True',\n",
            " 'and',\n",
            " 'as',\n",
            " 'assert',\n",
            " 'async',\n",
            " 'await',\n",
            " 'break',\n",
            " 'class',\n",
            " 'continue',\n",
            " 'def',\n",
            " 'del',\n",
            " 'elif',\n",
            " 'else',\n",
            " 'except',\n",
            " 'finally',\n",
            " 'for',\n",
            " 'from',\n",
            " 'global',\n",
            " 'if',\n",
            " 'import',\n",
            " 'in',\n",
            " 'is',\n",
            " 'lambda',\n",
            " 'nonlocal',\n",
            " 'not',\n",
            " 'or',\n",
            " 'pass',\n",
            " 'raise',\n",
            " 'return',\n",
            " 'try',\n",
            " 'while',\n",
            " 'with',\n",
            " 'yield']\n"
          ]
        }
      ]
    },
    {
      "cell_type": "markdown",
      "source": [
        "Q.2. What are the rules to create variables in python?\n",
        "\n",
        "Answer:\n",
        "\n",
        "*   A variable name must start with a letter or the underscore character\n",
        "\n",
        "*   A variable name cannot start with a number\n",
        "\n",
        "*   A variable name can only contain alpha-numeric characters and underscores (A-z, 0-9, and _ )\n",
        "\n",
        "*   Variable names are case-sensitive (age, Age and AGE are three different variables)\n",
        "\n",
        "*   A variable name cannot be any of the Python keywords as mentioned in question 1's answer.\n",
        "\n",
        "\n"
      ],
      "metadata": {
        "id": "y-Kbls4MhKAn"
      }
    },
    {
      "cell_type": "markdown",
      "source": [
        "Q.3. What are the standards and conventions followed for the nomenclature of variables in\n",
        "python to improve code readability and maintainability?\n",
        "\n",
        "Answer: To improve code readability and maintainability, developer should follow some of the following points\n",
        "\n",
        "\n",
        "*   Overriding Principle | Clarity and Readability: Variable names should convey clear the purpose.\n",
        "\n",
        "*   Descriptive Naming Styles | Consistency is Key: Once choosen a naming convention for the project, we should make sure that we stick to it throughout the project.\n",
        "\n",
        "*   Prescriptive Naming Conventions | Python Enhancement Proposal(PEP) 8 as Your Guide: It is advisible to follow PEP standards which is helpful in terms of collaboration and code maintainability.\n",
        "\n",
        "*   Avoid Names to Avoid | Steer Clear of Confusion: Avoid using system built-in functions and modules names.\n",
        "\n",
        "*   ASCII Compatibility | Striving for Portability: For compatibility purpose with other systems, prefer to use ASCII characters.\n",
        "\n",
        "*   Constants | UPPERCASE: perform to write constants names in uppercase with underscore separated words.\n",
        "\n"
      ],
      "metadata": {
        "id": "4sHThlkEhL5P"
      }
    },
    {
      "cell_type": "markdown",
      "source": [
        "Q.4. What will happen if a keyword is used as a variable name?\n",
        "Answer: Using keyword as a variable name, will result in 'Syntax Error'. As Shown below"
      ],
      "metadata": {
        "id": "qiDvSkV6hPOZ"
      }
    },
    {
      "cell_type": "code",
      "source": [
        "None={'cat': 100}"
      ],
      "metadata": {
        "colab": {
          "base_uri": "https://localhost:8080/",
          "height": 143
        },
        "id": "t1-IK39j7Qa1",
        "outputId": "0f831628-9047-4d19-9c5f-eb30c9229939"
      },
      "execution_count": 5,
      "outputs": [
        {
          "output_type": "error",
          "ename": "SyntaxError",
          "evalue": "ignored",
          "traceback": [
            "\u001b[0;36m  File \u001b[0;32m\"<ipython-input-5-1c56a09705ab>\"\u001b[0;36m, line \u001b[0;32m1\u001b[0m\n\u001b[0;31m    None={'cat': 100}\u001b[0m\n\u001b[0m    ^\u001b[0m\n\u001b[0;31mSyntaxError\u001b[0m\u001b[0;31m:\u001b[0m cannot assign to None\n"
          ]
        }
      ]
    },
    {
      "cell_type": "markdown",
      "source": [
        "Q.5. For what purpose def keyword is used?\n",
        "\n",
        "Answer: def keyword is short for 'define'. It is a keyword that we use to create a function."
      ],
      "metadata": {
        "id": "yr8T-ljzhQfk"
      }
    },
    {
      "cell_type": "code",
      "source": [
        "def greet(person_name) :   # begin definition\n",
        "  print(\"Hello, {}!\".format(person_name))\n",
        "\n",
        "greet('Rahul Chona')"
      ],
      "metadata": {
        "colab": {
          "base_uri": "https://localhost:8080/"
        },
        "id": "3AE6g5aS76JY",
        "outputId": "cd148451-730c-4dd6-b3ca-aad041ab0ff5"
      },
      "execution_count": 14,
      "outputs": [
        {
          "output_type": "stream",
          "name": "stdout",
          "text": [
            "Hello, Rahul Chona!\n"
          ]
        }
      ]
    },
    {
      "cell_type": "markdown",
      "source": [
        "Q.6. What is the operation of this special character ‘\\’?\n",
        "Answer: The backslash \"\\\" is called the \"escape\" character.\n",
        "\n",
        "It is used in representing certain whitespace characters\n",
        "\n",
        "*   \"\\t\" is a tab\n",
        "*   \"\\n\" is a newline\n",
        "*   \"\\r\" is a carriage return\n"
      ],
      "metadata": {
        "id": "-vjzboJShR-0"
      }
    },
    {
      "cell_type": "code",
      "source": [
        "print('apple\\torange')"
      ],
      "metadata": {
        "colab": {
          "base_uri": "https://localhost:8080/"
        },
        "id": "XbKWCgWi9c3I",
        "outputId": "03559c5c-6af9-416d-9fc1-66fd5ee5cd5d"
      },
      "execution_count": 16,
      "outputs": [
        {
          "output_type": "stream",
          "name": "stdout",
          "text": [
            "apple\torange\n"
          ]
        }
      ]
    },
    {
      "cell_type": "code",
      "source": [
        "print('apple\\norange')"
      ],
      "metadata": {
        "colab": {
          "base_uri": "https://localhost:8080/"
        },
        "id": "QrmzOccQ9gsN",
        "outputId": "133cfbfd-6bf7-4fa9-87ec-efeeff4efa80"
      },
      "execution_count": 17,
      "outputs": [
        {
          "output_type": "stream",
          "name": "stdout",
          "text": [
            "apple\n",
            "orange\n"
          ]
        }
      ]
    },
    {
      "cell_type": "code",
      "source": [
        "print('apple\\rorange')"
      ],
      "metadata": {
        "colab": {
          "base_uri": "https://localhost:8080/"
        },
        "id": "oVoxH8y69l7_",
        "outputId": "0e511d8f-ba92-4ce3-ddbd-918f2d163ce9"
      },
      "execution_count": 18,
      "outputs": [
        {
          "output_type": "stream",
          "name": "stdout",
          "text": [
            "apple\rorange\n"
          ]
        }
      ]
    },
    {
      "cell_type": "markdown",
      "source": [
        "Q.7. Give an example of the following conditions:\n",
        "\n",
        "Answer:\n",
        "\n",
        "(i) Homogeneous list: Contains a single type of data\n",
        "\n",
        "Example: ['oranges', 'bananas', 'mangoes']\n",
        "\n",
        "\n",
        "\n",
        "(ii) Heterogeneous set: contains data of multiple types.\n",
        "\n",
        "Example: ['oranges', 1, 2, 'bananas', 'mangoes']\n",
        "\n",
        "\n",
        "\n",
        "(iii) Homogeneous tuple:\n",
        "\n",
        "Example: (\"John\", \"Doe\")\n"
      ],
      "metadata": {
        "id": "I4wIuz2dhTd6"
      }
    },
    {
      "cell_type": "code",
      "source": [
        "homogeneousList = ['oranges', 'bananas', 'mangoes']\n",
        "homogeneousList"
      ],
      "metadata": {
        "colab": {
          "base_uri": "https://localhost:8080/"
        },
        "id": "lK_carpO--Wz",
        "outputId": "b6f99db3-ee9e-43ea-8c0f-e6a80fb96dfc"
      },
      "execution_count": 19,
      "outputs": [
        {
          "output_type": "execute_result",
          "data": {
            "text/plain": [
              "['oranges', 'bananas', 'mangoes']"
            ]
          },
          "metadata": {},
          "execution_count": 19
        }
      ]
    },
    {
      "cell_type": "code",
      "source": [
        "heterogeneousSet = ['oranges', 1, 2, 'bananas', 'mangoes']\n",
        "heterogeneousSet"
      ],
      "metadata": {
        "colab": {
          "base_uri": "https://localhost:8080/"
        },
        "id": "bxc-U55-_DJj",
        "outputId": "2d83005f-11c7-4ad9-aac1-28d8adb2b41a"
      },
      "execution_count": 20,
      "outputs": [
        {
          "output_type": "execute_result",
          "data": {
            "text/plain": [
              "['gfg', 1, 2, 'is', 'best']"
            ]
          },
          "metadata": {},
          "execution_count": 20
        }
      ]
    },
    {
      "cell_type": "code",
      "source": [
        "homogeneousTuple = (\"oranges\", 'bananas')\n",
        "homogeneousTuple"
      ],
      "metadata": {
        "colab": {
          "base_uri": "https://localhost:8080/"
        },
        "id": "KAMmc-69AQF-",
        "outputId": "91950d86-e2ef-40a9-c9b4-367ea29f5ce0"
      },
      "execution_count": 21,
      "outputs": [
        {
          "output_type": "execute_result",
          "data": {
            "text/plain": [
              "('oranges', 'bananas')"
            ]
          },
          "metadata": {},
          "execution_count": 21
        }
      ]
    },
    {
      "cell_type": "markdown",
      "source": [
        "Q.8. Explain the mutable and immutable data types with proper explanation & examples.\n",
        "\n",
        "Answer:\n",
        "\n",
        "Mutable data types\n",
        "\n",
        "- List: Ordered sequence of elements. I can change the value of a list by assigning a new value to our already existing list instead of creating a new copy of a list.\n",
        "\n",
        "- Set: Unordered collection of unique items. I can add or remove elements from a set.\n",
        "\n",
        "- Dictionary: Unordered collection of items. I can modify, remove or add values of existing items in a dictionary using the assignment operator.\n",
        "\n",
        "\n",
        "Some of the Immutable Data Types in Python are\n",
        "\n",
        "- int: Represent integers with no decimal point\n",
        "\n",
        "- float: Represent numbers with a decimal point\n",
        "\n",
        "- String: Sequence of characters\n",
        "\n",
        "- Tuple: Represent collection of immutable and ordered elements\n",
        "\n"
      ],
      "metadata": {
        "id": "vb35TF-KhVUD"
      }
    },
    {
      "cell_type": "code",
      "source": [
        "# Mutable Data Type: List\n",
        "\n",
        "muttableList = [1,2,3,4,5]\n",
        "muttableList.append(10)\n",
        "muttableList"
      ],
      "metadata": {
        "colab": {
          "base_uri": "https://localhost:8080/"
        },
        "id": "UVthuWjpMD8o",
        "outputId": "7df62fa7-5323-46a4-e789-3c006937ecd6"
      },
      "execution_count": 23,
      "outputs": [
        {
          "output_type": "execute_result",
          "data": {
            "text/plain": [
              "[1, 2, 3, 4, 5, 10]"
            ]
          },
          "metadata": {},
          "execution_count": 23
        }
      ]
    },
    {
      "cell_type": "code",
      "source": [
        "# Mutable Data Type: Set\n",
        "# Add\n",
        "muttableSet = {1,2,6,5,7,11}\n",
        "muttableSet.add(12)\n",
        "muttableSet\n",
        "\n",
        "# Update\n",
        "muttableSet.update([9,78,100])\n",
        "muttableSet\n",
        "\n",
        "# Remove\n",
        "muttableSet.remove(78)\n",
        "muttableSet"
      ],
      "metadata": {
        "colab": {
          "base_uri": "https://localhost:8080/"
        },
        "id": "pvsJjucfMLc8",
        "outputId": "21f18077-1fd5-4886-e40a-b259c13904a9"
      },
      "execution_count": 27,
      "outputs": [
        {
          "output_type": "execute_result",
          "data": {
            "text/plain": [
              "{1, 2, 5, 6, 7, 9, 11, 12, 100}"
            ]
          },
          "metadata": {},
          "execution_count": 27
        }
      ]
    },
    {
      "cell_type": "code",
      "source": [
        "# Mutable Data Type: Dictionary\n",
        "muttableDict = {\"cat\":100, \"Dog\":101}\n",
        "#Add\n",
        "muttableDict[\"Sheep\"] = 102\n",
        "muttableDict\n",
        "\n",
        "#Update\n",
        "muttableDict[\"Sheep\"] = 103\n",
        "muttableDict\n",
        "\n",
        "#Remove\n",
        "muttableDict.pop(\"Dog\")\n",
        "muttableDict"
      ],
      "metadata": {
        "colab": {
          "base_uri": "https://localhost:8080/"
        },
        "id": "8y0x-uT2NekK",
        "outputId": "4f2bbc21-4924-4ef6-eff8-c918ff6ebc3f"
      },
      "execution_count": 30,
      "outputs": [
        {
          "output_type": "execute_result",
          "data": {
            "text/plain": [
              "{'cat': 100, 'Sheep': 103}"
            ]
          },
          "metadata": {},
          "execution_count": 30
        }
      ]
    },
    {
      "cell_type": "code",
      "source": [
        "# Immutable Data Type:Int\n",
        "\n",
        "immutableInt = 15\n",
        "print('Original memory address => ', id(immutableInt))\n",
        "\n",
        "mimmutableInt = 22\n",
        "print('New memory address => ', id(immutableInt))\n",
        "\n"
      ],
      "metadata": {
        "colab": {
          "base_uri": "https://localhost:8080/"
        },
        "id": "Agg7GdOoQCSY",
        "outputId": "e11d4a38-53c1-4a1a-989a-6d024e988e01"
      },
      "execution_count": 34,
      "outputs": [
        {
          "output_type": "stream",
          "name": "stdout",
          "text": [
            "Original memory address =>  138921937371824\n",
            "New memory address =>  138921937371824\n"
          ]
        }
      ]
    },
    {
      "cell_type": "code",
      "source": [
        "# Immutable Data Type:Float\n",
        "\n",
        "immutableFloat = 3.14\n",
        "print(immutableFloat)\n",
        "print('Original memory address => ', id(immutableFloat))\n",
        "\n",
        "immutableFloat += 1.0\n",
        "print(immutableFloat)\n",
        "print('New memory address => ', id(immutableFloat))"
      ],
      "metadata": {
        "colab": {
          "base_uri": "https://localhost:8080/"
        },
        "id": "x7_-HvWoRMAW",
        "outputId": "c7376980-b94d-431f-da27-221ce719ebee"
      },
      "execution_count": 35,
      "outputs": [
        {
          "output_type": "stream",
          "name": "stdout",
          "text": [
            "3.14\n",
            "Original memory address =>  138920669440912\n",
            "4.140000000000001\n",
            "New memory address =>  138920669441072\n"
          ]
        }
      ]
    },
    {
      "cell_type": "code",
      "source": [
        "# Immutable Data Type: String\n",
        "\n",
        "# Original string\n",
        "originalString = 'Hello, Rahul Chona!'\n",
        "print('Original String => ', id(originalString))\n",
        "\n",
        "# Now I will change at index 5\n",
        "print('See error below: Unable to update')\n",
        "originalString[5] = ':'\n",
        "print('Updated Original String => ', id(originalString))"
      ],
      "metadata": {
        "colab": {
          "base_uri": "https://localhost:8080/",
          "height": 268
        },
        "id": "bDRXle-1RwWx",
        "outputId": "afe76b73-9588-4b3d-8506-6fb678882fe0"
      },
      "execution_count": 36,
      "outputs": [
        {
          "output_type": "stream",
          "name": "stdout",
          "text": [
            "Original String =>  138920896675104\n",
            "See error below: Unable to update\n"
          ]
        },
        {
          "output_type": "error",
          "ename": "TypeError",
          "evalue": "ignored",
          "traceback": [
            "\u001b[0;31m---------------------------------------------------------------------------\u001b[0m",
            "\u001b[0;31mTypeError\u001b[0m                                 Traceback (most recent call last)",
            "\u001b[0;32m<ipython-input-36-47b0cfa90f4c>\u001b[0m in \u001b[0;36m<cell line: 9>\u001b[0;34m()\u001b[0m\n\u001b[1;32m      7\u001b[0m \u001b[0;31m# Now I will change at index 5\u001b[0m\u001b[0;34m\u001b[0m\u001b[0;34m\u001b[0m\u001b[0m\n\u001b[1;32m      8\u001b[0m \u001b[0mprint\u001b[0m\u001b[0;34m(\u001b[0m\u001b[0;34m'See error below: Unable to update'\u001b[0m\u001b[0;34m)\u001b[0m\u001b[0;34m\u001b[0m\u001b[0;34m\u001b[0m\u001b[0m\n\u001b[0;32m----> 9\u001b[0;31m \u001b[0moriginalString\u001b[0m\u001b[0;34m[\u001b[0m\u001b[0;36m5\u001b[0m\u001b[0;34m]\u001b[0m \u001b[0;34m=\u001b[0m \u001b[0;34m',,'\u001b[0m\u001b[0;34m\u001b[0m\u001b[0;34m\u001b[0m\u001b[0m\n\u001b[0m\u001b[1;32m     10\u001b[0m \u001b[0mprint\u001b[0m\u001b[0;34m(\u001b[0m\u001b[0;34m'Updated Original String => '\u001b[0m\u001b[0;34m,\u001b[0m \u001b[0mid\u001b[0m\u001b[0;34m(\u001b[0m\u001b[0moriginalString\u001b[0m\u001b[0;34m)\u001b[0m\u001b[0;34m)\u001b[0m\u001b[0;34m\u001b[0m\u001b[0;34m\u001b[0m\u001b[0m\n",
            "\u001b[0;31mTypeError\u001b[0m: 'str' object does not support item assignment"
          ]
        }
      ]
    },
    {
      "cell_type": "code",
      "source": [
        "# Immutable Data Type: Tuple\n",
        "\n",
        "originalTuple = ('hello', 'rahul', 'chona')\n",
        "print(\"Original Tuple:\", originalTuple)\n",
        "\n",
        "# Try to modify\n",
        "print('See error below: Unable to update')\n",
        "originalTuple[1]= 'Mr.'\n",
        "\n",
        "print(\"Updated tuple:\", originalTuple)"
      ],
      "metadata": {
        "colab": {
          "base_uri": "https://localhost:8080/",
          "height": 286
        },
        "id": "FvmDitmgTaUV",
        "outputId": "8e3f36f0-7138-415f-d7fb-f92268ec83a2"
      },
      "execution_count": 38,
      "outputs": [
        {
          "output_type": "stream",
          "name": "stdout",
          "text": [
            "Original Tuple: ('hello', 'rahul', 'chona')\n",
            "See error below: Unable to update\n"
          ]
        },
        {
          "output_type": "error",
          "ename": "TypeError",
          "evalue": "ignored",
          "traceback": [
            "\u001b[0;31m---------------------------------------------------------------------------\u001b[0m",
            "\u001b[0;31mTypeError\u001b[0m                                 Traceback (most recent call last)",
            "\u001b[0;32m<ipython-input-38-d714a163c756>\u001b[0m in \u001b[0;36m<cell line: 8>\u001b[0;34m()\u001b[0m\n\u001b[1;32m      6\u001b[0m \u001b[0;31m# Try to modify\u001b[0m\u001b[0;34m\u001b[0m\u001b[0;34m\u001b[0m\u001b[0m\n\u001b[1;32m      7\u001b[0m \u001b[0mprint\u001b[0m\u001b[0;34m(\u001b[0m\u001b[0;34m'See error below: Unable to update'\u001b[0m\u001b[0;34m)\u001b[0m\u001b[0;34m\u001b[0m\u001b[0;34m\u001b[0m\u001b[0m\n\u001b[0;32m----> 8\u001b[0;31m \u001b[0moriginalTuple\u001b[0m\u001b[0;34m[\u001b[0m\u001b[0;36m1\u001b[0m\u001b[0;34m]\u001b[0m\u001b[0;34m=\u001b[0m \u001b[0;34m'Mr.'\u001b[0m\u001b[0;34m\u001b[0m\u001b[0;34m\u001b[0m\u001b[0m\n\u001b[0m\u001b[1;32m      9\u001b[0m \u001b[0;34m\u001b[0m\u001b[0m\n\u001b[1;32m     10\u001b[0m \u001b[0mprint\u001b[0m\u001b[0;34m(\u001b[0m\u001b[0;34m\"Updated tuple:\"\u001b[0m\u001b[0;34m,\u001b[0m \u001b[0moriginalTuple\u001b[0m\u001b[0;34m)\u001b[0m\u001b[0;34m\u001b[0m\u001b[0;34m\u001b[0m\u001b[0m\n",
            "\u001b[0;31mTypeError\u001b[0m: 'tuple' object does not support item assignment"
          ]
        }
      ]
    },
    {
      "cell_type": "markdown",
      "source": [
        "Q.9. Write a code to create the given structure using only for loop.\n",
        "\n",
        "```\n",
        "    *\n",
        "   ***\n",
        "  *****\n",
        " *******\n",
        "*********\n",
        "```\n",
        "\n"
      ],
      "metadata": {
        "id": "7w7M2-IThXPr"
      }
    },
    {
      "cell_type": "code",
      "source": [
        "depth = 5\n",
        "for index in range(1, depth + 1):\n",
        "    spaces = ' ' * (depth - index)\n",
        "    stars = '*' * (2 * index - 1)\n",
        "    print(spaces + stars)"
      ],
      "metadata": {
        "colab": {
          "base_uri": "https://localhost:8080/"
        },
        "id": "hhAWM0ryVQyJ",
        "outputId": "ec01844b-0133-4bf3-9c1a-429d4ad82352"
      },
      "execution_count": 39,
      "outputs": [
        {
          "output_type": "stream",
          "name": "stdout",
          "text": [
            "    *\n",
            "   ***\n",
            "  *****\n",
            " *******\n",
            "*********\n"
          ]
        }
      ]
    },
    {
      "cell_type": "markdown",
      "source": [
        "Q.10. Write a code to create the given structure using while loop.\n",
        "\n",
        "\n",
        "\n",
        "```\n",
        "|||||||||\n",
        " |||||||\n",
        "  |||||\n",
        "   |||\n",
        "    |\n",
        "```\n",
        "\n"
      ],
      "metadata": {
        "id": "jQsy3oMKhYzZ"
      }
    },
    {
      "cell_type": "code",
      "source": [
        "#Using while Loop\n",
        "\n",
        "depth = 5\n",
        "index = depth\n",
        "while index >= 1:\n",
        "    spaces = ' ' * (depth - index)\n",
        "    pipes = '|' * (2 * index - 1)\n",
        "    print(spaces + pipes)\n",
        "    index -= 1"
      ],
      "metadata": {
        "colab": {
          "base_uri": "https://localhost:8080/"
        },
        "id": "Vook_-4dWSeJ",
        "outputId": "e8b17eb9-b7dc-4edd-daee-06e3f91c8268"
      },
      "execution_count": 47,
      "outputs": [
        {
          "output_type": "stream",
          "name": "stdout",
          "text": [
            "|||||||||\n",
            " |||||||\n",
            "  |||||\n",
            "   |||\n",
            "    |\n"
          ]
        }
      ]
    }
  ]
}